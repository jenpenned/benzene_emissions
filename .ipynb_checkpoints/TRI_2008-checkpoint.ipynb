{
 "cells": [
  {
   "cell_type": "markdown",
   "metadata": {},
   "source": [
    "# Benzene emissions from the petroleum industry section from TRI 2008"
   ]
  },
  {
   "cell_type": "code",
   "execution_count": 2,
   "metadata": {
    "collapsed": false
   },
   "outputs": [],
   "source": [
    "import pandas as pd"
   ]
  },
  {
   "cell_type": "code",
   "execution_count": 3,
   "metadata": {
    "collapsed": false
   },
   "outputs": [
    {
     "name": "stderr",
     "output_type": "stream",
     "text": [
      "c:\\python27\\lib\\site-packages\\IPython\\core\\interactiveshell.py:2902: DtypeWarning: Columns (23,24,25,26,108) have mixed types. Specify dtype option on import or set low_memory=False.\n",
      "  interactivity=interactivity, compiler=compiler, result=result)\n"
     ]
    }
   ],
   "source": [
    "TRI_2008 = pd.read_csv(\"C:/Users/Luckbug/Code/emissions/TRI/TRI_2008_US.csv\")"
   ]
  },
  {
   "cell_type": "code",
   "execution_count": 4,
   "metadata": {
    "collapsed": false
   },
   "outputs": [
    {
     "data": {
      "text/html": [
       "<div>\n",
       "<table border=\"1\" class=\"dataframe\">\n",
       "  <thead>\n",
       "    <tr style=\"text-align: right;\">\n",
       "      <th></th>\n",
       "      <th>YEAR</th>\n",
       "      <th>TRI_FACILITY_ID</th>\n",
       "      <th>FRS_ID</th>\n",
       "      <th>FACILITY_NAME</th>\n",
       "      <th>STREET_ADDRESS</th>\n",
       "      <th>CITY</th>\n",
       "      <th>COUNTY</th>\n",
       "      <th>ST</th>\n",
       "      <th>ZIP</th>\n",
       "      <th>BIA_CODE</th>\n",
       "      <th>...</th>\n",
       "      <th>8.6_TREATMENT_ON-SITE</th>\n",
       "      <th>8.7_TREATMENT_OFF-SITE</th>\n",
       "      <th>PROD._WASTE_(8.1_THRU_8.7)</th>\n",
       "      <th>8.8_ONE-TIME_RELEASE</th>\n",
       "      <th>PROD_RATIO_OR_ACTIVITY</th>\n",
       "      <th>8.9_PRODUCTION_RATIO</th>\n",
       "      <th>PARENT_COMPANY_NAME</th>\n",
       "      <th>PARENT_COMPANY_DB_NUMBER</th>\n",
       "      <th>SYS_STSITSSXSOLCHJPSAF7486K4RV</th>\n",
       "      <th>SYS_STSWGMX8O#197_NPUKVK#S5$QM</th>\n",
       "    </tr>\n",
       "  </thead>\n",
       "  <tbody>\n",
       "    <tr>\n",
       "      <th>0</th>\n",
       "      <td>2008</td>\n",
       "      <td>26574MRCNBRTE17</td>\n",
       "      <td>1.100080e+11</td>\n",
       "      <td>AMERICAN BITUMINOUS POWER PARTNERS LP</td>\n",
       "      <td>ROUTE 17</td>\n",
       "      <td>GRANT TOWN</td>\n",
       "      <td>MARION</td>\n",
       "      <td>WV</td>\n",
       "      <td>26574</td>\n",
       "      <td>NaN</td>\n",
       "      <td>...</td>\n",
       "      <td>0.0</td>\n",
       "      <td>0.0</td>\n",
       "      <td>265.77</td>\n",
       "      <td>NaN</td>\n",
       "      <td>NaN</td>\n",
       "      <td>0.95</td>\n",
       "      <td>AMERICAN BITUMINOUS POWER PARTNERS LP</td>\n",
       "      <td>788521599</td>\n",
       "      <td>5.542470e+18</td>\n",
       "      <td>9.911220e+18</td>\n",
       "    </tr>\n",
       "    <tr>\n",
       "      <th>1</th>\n",
       "      <td>2008</td>\n",
       "      <td>44012GNCXXMOORE</td>\n",
       "      <td>1.100420e+11</td>\n",
       "      <td>POLYONE CORP</td>\n",
       "      <td>MOORE &amp; WALKER RD</td>\n",
       "      <td>AVON LAKE</td>\n",
       "      <td>LORAIN</td>\n",
       "      <td>OH</td>\n",
       "      <td>44012</td>\n",
       "      <td>NaN</td>\n",
       "      <td>...</td>\n",
       "      <td>0.0</td>\n",
       "      <td>0.0</td>\n",
       "      <td>0.00</td>\n",
       "      <td>0.0</td>\n",
       "      <td>NaN</td>\n",
       "      <td>0.00</td>\n",
       "      <td>POLYONE CORP</td>\n",
       "      <td>801039975</td>\n",
       "      <td>2.065310e+18</td>\n",
       "      <td>5.976010e+17</td>\n",
       "    </tr>\n",
       "    <tr>\n",
       "      <th>2</th>\n",
       "      <td>2008</td>\n",
       "      <td>90748NCLLS1660W</td>\n",
       "      <td>1.100000e+11</td>\n",
       "      <td>PHILLIPS 66 LOS ANGELES REFINERY WILMINGTON PLANT</td>\n",
       "      <td>1660 W ANAHEIM ST</td>\n",
       "      <td>WILMINGTON</td>\n",
       "      <td>LOS ANGELES</td>\n",
       "      <td>CA</td>\n",
       "      <td>90744</td>\n",
       "      <td>NaN</td>\n",
       "      <td>...</td>\n",
       "      <td>0.0</td>\n",
       "      <td>0.0</td>\n",
       "      <td>1504.00</td>\n",
       "      <td>NaN</td>\n",
       "      <td>NaN</td>\n",
       "      <td>0.89</td>\n",
       "      <td>PHILLIPS 66 CO</td>\n",
       "      <td>78378508</td>\n",
       "      <td>1.436440e+19</td>\n",
       "      <td>1.067580e+19</td>\n",
       "    </tr>\n",
       "    <tr>\n",
       "      <th>3</th>\n",
       "      <td>2008</td>\n",
       "      <td>64051SRMYLINTER</td>\n",
       "      <td>1.100420e+11</td>\n",
       "      <td>US ARMY LAKE CITY ARMY AMMUNITION PLANT</td>\n",
       "      <td>25201 E 78 HWY</td>\n",
       "      <td>INDEPENDENCE</td>\n",
       "      <td>JACKSON</td>\n",
       "      <td>MO</td>\n",
       "      <td>64056</td>\n",
       "      <td>NaN</td>\n",
       "      <td>...</td>\n",
       "      <td>0.0</td>\n",
       "      <td>0.0</td>\n",
       "      <td>11770.00</td>\n",
       "      <td>0.0</td>\n",
       "      <td>NaN</td>\n",
       "      <td>0.90</td>\n",
       "      <td>US DEPARTMENT OF DEFENSE</td>\n",
       "      <td>NaN</td>\n",
       "      <td>1.032240e+19</td>\n",
       "      <td>1.021350e+19</td>\n",
       "    </tr>\n",
       "    <tr>\n",
       "      <th>4</th>\n",
       "      <td>2008</td>\n",
       "      <td>77522CHVRN9500I</td>\n",
       "      <td>1.100070e+11</td>\n",
       "      <td>CHEVRON PHILLIPS CHEMICAL CO LP</td>\n",
       "      <td>9500 IH-10 E</td>\n",
       "      <td>BAYTOWN</td>\n",
       "      <td>HARRIS</td>\n",
       "      <td>TX</td>\n",
       "      <td>77521</td>\n",
       "      <td>NaN</td>\n",
       "      <td>...</td>\n",
       "      <td>0.0</td>\n",
       "      <td>0.0</td>\n",
       "      <td>1593.00</td>\n",
       "      <td>0.0</td>\n",
       "      <td>NaN</td>\n",
       "      <td>1.00</td>\n",
       "      <td>CHEVRON PHILLIPS CHEMICAL CO LLC</td>\n",
       "      <td>152975665</td>\n",
       "      <td>1.307840e+19</td>\n",
       "      <td>3.831880e+18</td>\n",
       "    </tr>\n",
       "  </tbody>\n",
       "</table>\n",
       "<p>5 rows × 111 columns</p>\n",
       "</div>"
      ],
      "text/plain": [
       "   YEAR  TRI_FACILITY_ID        FRS_ID  \\\n",
       "0  2008  26574MRCNBRTE17  1.100080e+11   \n",
       "1  2008  44012GNCXXMOORE  1.100420e+11   \n",
       "2  2008  90748NCLLS1660W  1.100000e+11   \n",
       "3  2008  64051SRMYLINTER  1.100420e+11   \n",
       "4  2008  77522CHVRN9500I  1.100070e+11   \n",
       "\n",
       "                                       FACILITY_NAME     STREET_ADDRESS  \\\n",
       "0              AMERICAN BITUMINOUS POWER PARTNERS LP           ROUTE 17   \n",
       "1                                       POLYONE CORP  MOORE & WALKER RD   \n",
       "2  PHILLIPS 66 LOS ANGELES REFINERY WILMINGTON PLANT  1660 W ANAHEIM ST   \n",
       "3            US ARMY LAKE CITY ARMY AMMUNITION PLANT     25201 E 78 HWY   \n",
       "4                    CHEVRON PHILLIPS CHEMICAL CO LP       9500 IH-10 E   \n",
       "\n",
       "           CITY       COUNTY  ST    ZIP  BIA_CODE  \\\n",
       "0    GRANT TOWN       MARION  WV  26574       NaN   \n",
       "1     AVON LAKE       LORAIN  OH  44012       NaN   \n",
       "2    WILMINGTON  LOS ANGELES  CA  90744       NaN   \n",
       "3  INDEPENDENCE      JACKSON  MO  64056       NaN   \n",
       "4       BAYTOWN       HARRIS  TX  77521       NaN   \n",
       "\n",
       "                ...               8.6_TREATMENT_ON-SITE  \\\n",
       "0               ...                                 0.0   \n",
       "1               ...                                 0.0   \n",
       "2               ...                                 0.0   \n",
       "3               ...                                 0.0   \n",
       "4               ...                                 0.0   \n",
       "\n",
       "   8.7_TREATMENT_OFF-SITE  PROD._WASTE_(8.1_THRU_8.7) 8.8_ONE-TIME_RELEASE  \\\n",
       "0                     0.0                      265.77                  NaN   \n",
       "1                     0.0                        0.00                  0.0   \n",
       "2                     0.0                     1504.00                  NaN   \n",
       "3                     0.0                    11770.00                  0.0   \n",
       "4                     0.0                     1593.00                  0.0   \n",
       "\n",
       "   PROD_RATIO_OR_ACTIVITY 8.9_PRODUCTION_RATIO  \\\n",
       "0                     NaN                 0.95   \n",
       "1                     NaN                 0.00   \n",
       "2                     NaN                 0.89   \n",
       "3                     NaN                 0.90   \n",
       "4                     NaN                 1.00   \n",
       "\n",
       "                     PARENT_COMPANY_NAME  PARENT_COMPANY_DB_NUMBER  \\\n",
       "0  AMERICAN BITUMINOUS POWER PARTNERS LP                 788521599   \n",
       "1                           POLYONE CORP                 801039975   \n",
       "2                         PHILLIPS 66 CO                  78378508   \n",
       "3               US DEPARTMENT OF DEFENSE                       NaN   \n",
       "4       CHEVRON PHILLIPS CHEMICAL CO LLC                 152975665   \n",
       "\n",
       "   SYS_STSITSSXSOLCHJPSAF7486K4RV  SYS_STSWGMX8O#197_NPUKVK#S5$QM  \n",
       "0                    5.542470e+18                    9.911220e+18  \n",
       "1                    2.065310e+18                    5.976010e+17  \n",
       "2                    1.436440e+19                    1.067580e+19  \n",
       "3                    1.032240e+19                    1.021350e+19  \n",
       "4                    1.307840e+19                    3.831880e+18  \n",
       "\n",
       "[5 rows x 111 columns]"
      ]
     },
     "execution_count": 4,
     "metadata": {},
     "output_type": "execute_result"
    }
   ],
   "source": [
    "TRI_2008.head()"
   ]
  },
  {
   "cell_type": "code",
   "execution_count": 5,
   "metadata": {
    "collapsed": false,
    "scrolled": true
   },
   "outputs": [
    {
     "name": "stdout",
     "output_type": "stream",
     "text": [
      "<class 'pandas.core.frame.DataFrame'>\n",
      "RangeIndex: 86821 entries, 0 to 86820\n",
      "Columns: 111 entries, YEAR to SYS_STSWGMX8O#197_NPUKVK#S5$QM\n",
      "dtypes: float64(75), int64(13), object(23)\n",
      "memory usage: 65.9+ MB\n"
     ]
    }
   ],
   "source": [
    "TRI_2008.info()"
   ]
  },
  {
   "cell_type": "markdown",
   "metadata": {},
   "source": [
    "### Filter dataframe \"TRI_2008\" for petroleum sector emissions\n",
    "\n",
    "Then, create a new dataframe of only petroleum sector emissions called \"Petro_2008\""
   ]
  },
  {
   "cell_type": "code",
   "execution_count": 6,
   "metadata": {
    "collapsed": false,
    "scrolled": false
   },
   "outputs": [],
   "source": [
    "Petro_2008 = TRI_2008[TRI_2008.INDUSTRY_SECTOR == \"Petroleum\"]"
   ]
  },
  {
   "cell_type": "code",
   "execution_count": 7,
   "metadata": {
    "collapsed": false
   },
   "outputs": [
    {
     "name": "stdout",
     "output_type": "stream",
     "text": [
      "<class 'pandas.core.frame.DataFrame'>\n",
      "Int64Index: 5257 entries, 2 to 86813\n",
      "Columns: 111 entries, YEAR to SYS_STSWGMX8O#197_NPUKVK#S5$QM\n",
      "dtypes: float64(75), int64(13), object(23)\n",
      "memory usage: 4.0+ MB\n"
     ]
    }
   ],
   "source": [
    "Petro_2008.info()"
   ]
  },
  {
   "cell_type": "code",
   "execution_count": 8,
   "metadata": {
    "collapsed": false
   },
   "outputs": [],
   "source": [
    "Ben_Petro_2008 = Petro_2008[Petro_2008.CHEMICAL == \"BENZENE\"]"
   ]
  },
  {
   "cell_type": "code",
   "execution_count": 9,
   "metadata": {
    "collapsed": false
   },
   "outputs": [
    {
     "name": "stdout",
     "output_type": "stream",
     "text": [
      "<class 'pandas.core.frame.DataFrame'>\n",
      "Int64Index: 171 entries, 234 to 86108\n",
      "Columns: 111 entries, YEAR to SYS_STSWGMX8O#197_NPUKVK#S5$QM\n",
      "dtypes: float64(75), int64(13), object(23)\n",
      "memory usage: 134.3+ KB\n"
     ]
    }
   ],
   "source": [
    "Ben_Petro_2008.info()"
   ]
  },
  {
   "cell_type": "markdown",
   "metadata": {},
   "source": [
    "Since emissions can be reported in pounds and grams in the column \"UNIT_OF_MEASURE,\" check whether benzene emissions are also reported in grams"
   ]
  },
  {
   "cell_type": "code",
   "execution_count": 10,
   "metadata": {
    "collapsed": false
   },
   "outputs": [
    {
     "data": {
      "text/html": [
       "<div>\n",
       "<table border=\"1\" class=\"dataframe\">\n",
       "  <thead>\n",
       "    <tr style=\"text-align: right;\">\n",
       "      <th></th>\n",
       "      <th>index</th>\n",
       "      <th>UNIT_OF_MEASURE</th>\n",
       "    </tr>\n",
       "  </thead>\n",
       "  <tbody>\n",
       "    <tr>\n",
       "      <th>0</th>\n",
       "      <td>Pounds</td>\n",
       "      <td>171</td>\n",
       "    </tr>\n",
       "  </tbody>\n",
       "</table>\n",
       "</div>"
      ],
      "text/plain": [
       "    index  UNIT_OF_MEASURE\n",
       "0  Pounds              171"
      ]
     },
     "execution_count": 10,
     "metadata": {},
     "output_type": "execute_result"
    }
   ],
   "source": [
    "Ben_Petro_2008.UNIT_OF_MEASURE.value_counts().reset_index()"
   ]
  },
  {
   "cell_type": "markdown",
   "metadata": {},
   "source": [
    "Good, no benzene emissions were reported in grams so I don't have different units to worry about."
   ]
  },
  {
   "cell_type": "code",
   "execution_count": 11,
   "metadata": {
    "collapsed": false
   },
   "outputs": [],
   "source": [
    "Ben_Petro_2008.to_csv(\"C:/Users/Luckbug/Code/emissions/Ben_Petro_2008.csv\")"
   ]
  },
  {
   "cell_type": "code",
   "execution_count": null,
   "metadata": {
    "collapsed": true
   },
   "outputs": [],
   "source": []
  }
 ],
 "metadata": {
  "kernelspec": {
   "display_name": "Python 2",
   "language": "python",
   "name": "python2"
  },
  "language_info": {
   "codemirror_mode": {
    "name": "ipython",
    "version": 2
   },
   "file_extension": ".py",
   "mimetype": "text/x-python",
   "name": "python",
   "nbconvert_exporter": "python",
   "pygments_lexer": "ipython2",
   "version": "2.7.11"
  }
 },
 "nbformat": 4,
 "nbformat_minor": 0
}
