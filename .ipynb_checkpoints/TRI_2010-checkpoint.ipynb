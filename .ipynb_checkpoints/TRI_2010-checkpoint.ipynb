{
 "cells": [
  {
   "cell_type": "markdown",
   "metadata": {},
   "source": [
    "# Benzene emissions from the petroleum industry section from TRI 2010"
   ]
  },
  {
   "cell_type": "code",
   "execution_count": 1,
   "metadata": {
    "collapsed": false
   },
   "outputs": [],
   "source": [
    "import pandas as pd"
   ]
  },
  {
   "cell_type": "code",
   "execution_count": 2,
   "metadata": {
    "collapsed": false
   },
   "outputs": [
    {
     "name": "stderr",
     "output_type": "stream",
     "text": [
      "c:\\python27\\lib\\site-packages\\IPython\\core\\interactiveshell.py:2902: DtypeWarning: Columns (10,23,108) have mixed types. Specify dtype option on import or set low_memory=False.\n",
      "  interactivity=interactivity, compiler=compiler, result=result)\n"
     ]
    }
   ],
   "source": [
    "TRI_2010 = pd.read_csv(\"C:/Users/Luckbug/Code/emissions/TRI/TRI_2010_US.csv\")"
   ]
  },
  {
   "cell_type": "code",
   "execution_count": 3,
   "metadata": {
    "collapsed": false
   },
   "outputs": [
    {
     "data": {
      "text/html": [
       "<div>\n",
       "<table border=\"1\" class=\"dataframe\">\n",
       "  <thead>\n",
       "    <tr style=\"text-align: right;\">\n",
       "      <th></th>\n",
       "      <th>YEAR</th>\n",
       "      <th>TRI_FACILITY_ID</th>\n",
       "      <th>FRS_ID</th>\n",
       "      <th>FACILITY_NAME</th>\n",
       "      <th>STREET_ADDRESS</th>\n",
       "      <th>CITY</th>\n",
       "      <th>COUNTY</th>\n",
       "      <th>ST</th>\n",
       "      <th>ZIP</th>\n",
       "      <th>BIA_CODE</th>\n",
       "      <th>...</th>\n",
       "      <th>8.6_TREATMENT_ON-SITE</th>\n",
       "      <th>8.7_TREATMENT_OFF-SITE</th>\n",
       "      <th>PROD._WASTE_(8.1_THRU_8.7)</th>\n",
       "      <th>8.8_ONE-TIME_RELEASE</th>\n",
       "      <th>PROD_RATIO_OR_ACTIVITY</th>\n",
       "      <th>8.9_PRODUCTION_RATIO</th>\n",
       "      <th>PARENT_COMPANY_NAME</th>\n",
       "      <th>PARENT_COMPANY_DB_NUMBER</th>\n",
       "      <th>SYS_STSITSSXSOLCHJPSAF7486K4RV</th>\n",
       "      <th>SYS_STSWGMX8O#197_NPUKVK#S5$QM</th>\n",
       "    </tr>\n",
       "  </thead>\n",
       "  <tbody>\n",
       "    <tr>\n",
       "      <th>0</th>\n",
       "      <td>2010</td>\n",
       "      <td>77536LBRZL41TID</td>\n",
       "      <td>1.100570e+11</td>\n",
       "      <td>LUBRIZOL CORP DEER PARK FACILITY</td>\n",
       "      <td>41 TIDAL RD</td>\n",
       "      <td>DEER PARK</td>\n",
       "      <td>HARRIS</td>\n",
       "      <td>TX</td>\n",
       "      <td>77536</td>\n",
       "      <td>NaN</td>\n",
       "      <td>...</td>\n",
       "      <td>792936.0</td>\n",
       "      <td>0.0</td>\n",
       "      <td>1212150.0</td>\n",
       "      <td>0.0</td>\n",
       "      <td>NaN</td>\n",
       "      <td>1.25</td>\n",
       "      <td>BERKSHIRE HATHAWAY INC</td>\n",
       "      <td>1024314</td>\n",
       "      <td>7.796890e+17</td>\n",
       "      <td>8.278180e+18</td>\n",
       "    </tr>\n",
       "    <tr>\n",
       "      <th>1</th>\n",
       "      <td>2010</td>\n",
       "      <td>45856PRTCC5000C</td>\n",
       "      <td>1.100570e+11</td>\n",
       "      <td>PRO-TEC COATING CO</td>\n",
       "      <td>5500 PRO-TEC PARKWAY</td>\n",
       "      <td>LEIPSIC</td>\n",
       "      <td>PUTNAM</td>\n",
       "      <td>OH</td>\n",
       "      <td>45856</td>\n",
       "      <td>NaN</td>\n",
       "      <td>...</td>\n",
       "      <td>0.0</td>\n",
       "      <td>0.0</td>\n",
       "      <td>218.4</td>\n",
       "      <td>0.0</td>\n",
       "      <td>NaN</td>\n",
       "      <td>1.32</td>\n",
       "      <td>KOBE COATING CO &amp; USS GALVANIZING INC</td>\n",
       "      <td>2028801</td>\n",
       "      <td>1.111640e+19</td>\n",
       "      <td>1.159210e+19</td>\n",
       "    </tr>\n",
       "    <tr>\n",
       "      <th>2</th>\n",
       "      <td>2010</td>\n",
       "      <td>27546CPTLM309WD</td>\n",
       "      <td>1.100000e+11</td>\n",
       "      <td>CAPITAL MARBLE CREATIONS  INC.</td>\n",
       "      <td>309 W DUNCAN ST</td>\n",
       "      <td>LILLINGTON</td>\n",
       "      <td>HARNETT</td>\n",
       "      <td>NC</td>\n",
       "      <td>27546</td>\n",
       "      <td>NaN</td>\n",
       "      <td>...</td>\n",
       "      <td>0.0</td>\n",
       "      <td>0.0</td>\n",
       "      <td>9.0</td>\n",
       "      <td>NaN</td>\n",
       "      <td>NaN</td>\n",
       "      <td>0.80</td>\n",
       "      <td>NaN</td>\n",
       "      <td>NaN</td>\n",
       "      <td>1.743190e+19</td>\n",
       "      <td>9.624340e+18</td>\n",
       "    </tr>\n",
       "    <tr>\n",
       "      <th>3</th>\n",
       "      <td>2010</td>\n",
       "      <td>70037LLNCRHIGHW</td>\n",
       "      <td>1.100640e+11</td>\n",
       "      <td>PHILLIPS 66  - ALLIANCE REFINERY</td>\n",
       "      <td>15551 HIGHWAY 23</td>\n",
       "      <td>BELLE CHASSE</td>\n",
       "      <td>PLAQUEMINES PARISH</td>\n",
       "      <td>LA</td>\n",
       "      <td>70037</td>\n",
       "      <td>NaN</td>\n",
       "      <td>...</td>\n",
       "      <td>85000.0</td>\n",
       "      <td>0.0</td>\n",
       "      <td>85000.0</td>\n",
       "      <td>NaN</td>\n",
       "      <td>NaN</td>\n",
       "      <td>1.15</td>\n",
       "      <td>PHILLIPS 66</td>\n",
       "      <td>78378508</td>\n",
       "      <td>3.991500e+18</td>\n",
       "      <td>1.893180e+18</td>\n",
       "    </tr>\n",
       "    <tr>\n",
       "      <th>4</th>\n",
       "      <td>2010</td>\n",
       "      <td>48083BHRMR27DAL</td>\n",
       "      <td>1.100160e+11</td>\n",
       "      <td>MAHLE BEHR USA INC</td>\n",
       "      <td>2700 DALEY DR</td>\n",
       "      <td>TROY</td>\n",
       "      <td>OAKLAND</td>\n",
       "      <td>MI</td>\n",
       "      <td>48083</td>\n",
       "      <td>NaN</td>\n",
       "      <td>...</td>\n",
       "      <td>0.0</td>\n",
       "      <td>4127.0</td>\n",
       "      <td>4160.0</td>\n",
       "      <td>NaN</td>\n",
       "      <td>NaN</td>\n",
       "      <td>1.07</td>\n",
       "      <td>MAHLE BEHR USA INC</td>\n",
       "      <td>622815975</td>\n",
       "      <td>8.373660e+18</td>\n",
       "      <td>1.798780e+19</td>\n",
       "    </tr>\n",
       "  </tbody>\n",
       "</table>\n",
       "<p>5 rows × 111 columns</p>\n",
       "</div>"
      ],
      "text/plain": [
       "   YEAR  TRI_FACILITY_ID        FRS_ID                     FACILITY_NAME  \\\n",
       "0  2010  77536LBRZL41TID  1.100570e+11  LUBRIZOL CORP DEER PARK FACILITY   \n",
       "1  2010  45856PRTCC5000C  1.100570e+11                PRO-TEC COATING CO   \n",
       "2  2010  27546CPTLM309WD  1.100000e+11    CAPITAL MARBLE CREATIONS  INC.   \n",
       "3  2010  70037LLNCRHIGHW  1.100640e+11  PHILLIPS 66  - ALLIANCE REFINERY   \n",
       "4  2010  48083BHRMR27DAL  1.100160e+11                MAHLE BEHR USA INC   \n",
       "\n",
       "         STREET_ADDRESS          CITY              COUNTY  ST    ZIP  \\\n",
       "0           41 TIDAL RD     DEER PARK              HARRIS  TX  77536   \n",
       "1  5500 PRO-TEC PARKWAY       LEIPSIC              PUTNAM  OH  45856   \n",
       "2       309 W DUNCAN ST    LILLINGTON             HARNETT  NC  27546   \n",
       "3      15551 HIGHWAY 23  BELLE CHASSE  PLAQUEMINES PARISH  LA  70037   \n",
       "4         2700 DALEY DR          TROY             OAKLAND  MI  48083   \n",
       "\n",
       "   BIA_CODE               ...               8.6_TREATMENT_ON-SITE  \\\n",
       "0       NaN               ...                            792936.0   \n",
       "1       NaN               ...                                 0.0   \n",
       "2       NaN               ...                                 0.0   \n",
       "3       NaN               ...                             85000.0   \n",
       "4       NaN               ...                                 0.0   \n",
       "\n",
       "   8.7_TREATMENT_OFF-SITE  PROD._WASTE_(8.1_THRU_8.7) 8.8_ONE-TIME_RELEASE  \\\n",
       "0                     0.0                   1212150.0                  0.0   \n",
       "1                     0.0                       218.4                  0.0   \n",
       "2                     0.0                         9.0                  NaN   \n",
       "3                     0.0                     85000.0                  NaN   \n",
       "4                  4127.0                      4160.0                  NaN   \n",
       "\n",
       "   PROD_RATIO_OR_ACTIVITY 8.9_PRODUCTION_RATIO  \\\n",
       "0                     NaN                 1.25   \n",
       "1                     NaN                 1.32   \n",
       "2                     NaN                 0.80   \n",
       "3                     NaN                 1.15   \n",
       "4                     NaN                 1.07   \n",
       "\n",
       "                     PARENT_COMPANY_NAME  PARENT_COMPANY_DB_NUMBER  \\\n",
       "0                 BERKSHIRE HATHAWAY INC                   1024314   \n",
       "1  KOBE COATING CO & USS GALVANIZING INC                   2028801   \n",
       "2                                    NaN                       NaN   \n",
       "3                            PHILLIPS 66                  78378508   \n",
       "4                     MAHLE BEHR USA INC                 622815975   \n",
       "\n",
       "   SYS_STSITSSXSOLCHJPSAF7486K4RV  SYS_STSWGMX8O#197_NPUKVK#S5$QM  \n",
       "0                    7.796890e+17                    8.278180e+18  \n",
       "1                    1.111640e+19                    1.159210e+19  \n",
       "2                    1.743190e+19                    9.624340e+18  \n",
       "3                    3.991500e+18                    1.893180e+18  \n",
       "4                    8.373660e+18                    1.798780e+19  \n",
       "\n",
       "[5 rows x 111 columns]"
      ]
     },
     "execution_count": 3,
     "metadata": {},
     "output_type": "execute_result"
    }
   ],
   "source": [
    "TRI_2010.head()"
   ]
  },
  {
   "cell_type": "code",
   "execution_count": 4,
   "metadata": {
    "collapsed": false,
    "scrolled": true
   },
   "outputs": [
    {
     "name": "stdout",
     "output_type": "stream",
     "text": [
      "<class 'pandas.core.frame.DataFrame'>\n",
      "RangeIndex: 82077 entries, 0 to 82076\n",
      "Columns: 111 entries, YEAR to SYS_STSWGMX8O#197_NPUKVK#S5$QM\n",
      "dtypes: float64(79), int64(12), object(20)\n",
      "memory usage: 63.2+ MB\n"
     ]
    }
   ],
   "source": [
    "TRI_2010.info()"
   ]
  },
  {
   "cell_type": "markdown",
   "metadata": {},
   "source": [
    "### Filter dataframe \"TRI_2010\" for petroleum sector emissions\n",
    "\n",
    "Then, create a new dataframe of only petroleum sector emissions called \"Petro_2010\""
   ]
  },
  {
   "cell_type": "code",
   "execution_count": 5,
   "metadata": {
    "collapsed": false,
    "scrolled": false
   },
   "outputs": [],
   "source": [
    "Petro_2010 = TRI_2010[TRI_2010.INDUSTRY_SECTOR == \"Petroleum\"]"
   ]
  },
  {
   "cell_type": "code",
   "execution_count": 6,
   "metadata": {
    "collapsed": false
   },
   "outputs": [
    {
     "name": "stdout",
     "output_type": "stream",
     "text": [
      "<class 'pandas.core.frame.DataFrame'>\n",
      "Int64Index: 5198 entries, 3 to 82075\n",
      "Columns: 111 entries, YEAR to SYS_STSWGMX8O#197_NPUKVK#S5$QM\n",
      "dtypes: float64(79), int64(12), object(20)\n",
      "memory usage: 4.0+ MB\n"
     ]
    }
   ],
   "source": [
    "Petro_2010.info()"
   ]
  },
  {
   "cell_type": "code",
   "execution_count": 7,
   "metadata": {
    "collapsed": false
   },
   "outputs": [],
   "source": [
    "Ben_Petro_2010 = Petro_2010[Petro_2010.CHEMICAL == \"BENZENE\"]"
   ]
  },
  {
   "cell_type": "code",
   "execution_count": 8,
   "metadata": {
    "collapsed": false
   },
   "outputs": [
    {
     "name": "stdout",
     "output_type": "stream",
     "text": [
      "<class 'pandas.core.frame.DataFrame'>\n",
      "Int64Index: 173 entries, 13 to 82075\n",
      "Columns: 111 entries, YEAR to SYS_STSWGMX8O#197_NPUKVK#S5$QM\n",
      "dtypes: float64(79), int64(12), object(20)\n",
      "memory usage: 137.9+ KB\n"
     ]
    }
   ],
   "source": [
    "Ben_Petro_2010.info()"
   ]
  },
  {
   "cell_type": "markdown",
   "metadata": {},
   "source": [
    "Since emissions can be reported in pounds and grams in the column \"UNIT_OF_MEASURE,\" check whether benzene emissions are also reported in grams"
   ]
  },
  {
   "cell_type": "code",
   "execution_count": 9,
   "metadata": {
    "collapsed": false
   },
   "outputs": [
    {
     "data": {
      "text/html": [
       "<div>\n",
       "<table border=\"1\" class=\"dataframe\">\n",
       "  <thead>\n",
       "    <tr style=\"text-align: right;\">\n",
       "      <th></th>\n",
       "      <th>index</th>\n",
       "      <th>UNIT_OF_MEASURE</th>\n",
       "    </tr>\n",
       "  </thead>\n",
       "  <tbody>\n",
       "    <tr>\n",
       "      <th>0</th>\n",
       "      <td>Pounds</td>\n",
       "      <td>173</td>\n",
       "    </tr>\n",
       "  </tbody>\n",
       "</table>\n",
       "</div>"
      ],
      "text/plain": [
       "    index  UNIT_OF_MEASURE\n",
       "0  Pounds              173"
      ]
     },
     "execution_count": 9,
     "metadata": {},
     "output_type": "execute_result"
    }
   ],
   "source": [
    "Ben_Petro_2010.UNIT_OF_MEASURE.value_counts().reset_index()"
   ]
  },
  {
   "cell_type": "markdown",
   "metadata": {},
   "source": [
    "Good, no benzene emissions were reported in grams so I don't have different units to worry about."
   ]
  },
  {
   "cell_type": "code",
   "execution_count": 10,
   "metadata": {
    "collapsed": true
   },
   "outputs": [],
   "source": [
    "Ben_Petro_2010.to_csv(\"C:/Users/Luckbug/Code/emissions/Ben_Petro_2010.csv\")"
   ]
  }
 ],
 "metadata": {
  "kernelspec": {
   "display_name": "Python 2",
   "language": "python",
   "name": "python2"
  },
  "language_info": {
   "codemirror_mode": {
    "name": "ipython",
    "version": 2
   },
   "file_extension": ".py",
   "mimetype": "text/x-python",
   "name": "python",
   "nbconvert_exporter": "python",
   "pygments_lexer": "ipython2",
   "version": "2.7.11"
  }
 },
 "nbformat": 4,
 "nbformat_minor": 0
}
