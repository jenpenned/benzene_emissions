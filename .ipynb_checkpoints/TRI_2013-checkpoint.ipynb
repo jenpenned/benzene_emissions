{
 "cells": [
  {
   "cell_type": "markdown",
   "metadata": {},
   "source": [
    "# Benzene emissions from the petroleum industry section from TRI 2013"
   ]
  },
  {
   "cell_type": "code",
   "execution_count": 19,
   "metadata": {
    "collapsed": false
   },
   "outputs": [],
   "source": [
    "import pandas as pd"
   ]
  },
  {
   "cell_type": "code",
   "execution_count": 20,
   "metadata": {
    "collapsed": false
   },
   "outputs": [],
   "source": [
    "TRI_2013 = pd.read_csv(\"C:/Users/Luckbug/Code/emissions/TRI/TRI_2013_US.csv\")"
   ]
  },
  {
   "cell_type": "code",
   "execution_count": 21,
   "metadata": {
    "collapsed": false
   },
   "outputs": [
    {
     "data": {
      "text/html": [
       "<div>\n",
       "<table border=\"1\" class=\"dataframe\">\n",
       "  <thead>\n",
       "    <tr style=\"text-align: right;\">\n",
       "      <th></th>\n",
       "      <th>YEAR</th>\n",
       "      <th>TRI_FACILITY_ID</th>\n",
       "      <th>FRS_ID</th>\n",
       "      <th>FACILITY_NAME</th>\n",
       "      <th>STREET_ADDRESS</th>\n",
       "      <th>CITY</th>\n",
       "      <th>COUNTY</th>\n",
       "      <th>ST</th>\n",
       "      <th>ZIP</th>\n",
       "      <th>BIA_CODE</th>\n",
       "      <th>...</th>\n",
       "      <th>8.6_TREATMENT_ON-SITE</th>\n",
       "      <th>8.7_TREATMENT_OFF-SITE</th>\n",
       "      <th>PROD._WASTE_(8.1_THRU_8.7)</th>\n",
       "      <th>8.8_ONE-TIME_RELEASE</th>\n",
       "      <th>PROD_RATIO_OR_ACTIVITY</th>\n",
       "      <th>8.9_PRODUCTION_RATIO</th>\n",
       "      <th>PARENT_COMPANY_NAME</th>\n",
       "      <th>PARENT_COMPANY_DB_NUMBER</th>\n",
       "      <th>SYS_STSITSSXSOLCHJPSAF7486K4RV</th>\n",
       "      <th>SYS_STSWGMX8O#197_NPUKVK#S5$QM</th>\n",
       "    </tr>\n",
       "  </thead>\n",
       "  <tbody>\n",
       "    <tr>\n",
       "      <th>0</th>\n",
       "      <td>2013</td>\n",
       "      <td>9921WCNTRL851NC</td>\n",
       "      <td>1.100150e+11</td>\n",
       "      <td>CENTRAL PRE-MIX CONCRETE CO CRESTLINE FACILITY</td>\n",
       "      <td>8510 N CRESTLINE</td>\n",
       "      <td>SPOKANE</td>\n",
       "      <td>SPOKANE</td>\n",
       "      <td>WA</td>\n",
       "      <td>99217</td>\n",
       "      <td>NaN</td>\n",
       "      <td>...</td>\n",
       "      <td>0.0</td>\n",
       "      <td>0.0</td>\n",
       "      <td>52.280365</td>\n",
       "      <td>NaN</td>\n",
       "      <td>NaN</td>\n",
       "      <td>0.70</td>\n",
       "      <td>OLDCASTLE INC</td>\n",
       "      <td>37176591</td>\n",
       "      <td>4.562800e+18</td>\n",
       "      <td>1.022380e+19</td>\n",
       "    </tr>\n",
       "    <tr>\n",
       "      <th>1</th>\n",
       "      <td>2013</td>\n",
       "      <td>7522WLTTMR1362B</td>\n",
       "      <td>1.100550e+11</td>\n",
       "      <td>LATTIMORE MATERIALS CORP - DALLAS RM</td>\n",
       "      <td>10362 BICKHAM</td>\n",
       "      <td>DALLAS</td>\n",
       "      <td>DALLAS</td>\n",
       "      <td>TX</td>\n",
       "      <td>75220</td>\n",
       "      <td>NaN</td>\n",
       "      <td>...</td>\n",
       "      <td>0.0</td>\n",
       "      <td>0.0</td>\n",
       "      <td>67.500000</td>\n",
       "      <td>NaN</td>\n",
       "      <td>NaN</td>\n",
       "      <td>0.95</td>\n",
       "      <td>HOLCIM (US) INC</td>\n",
       "      <td>622258929</td>\n",
       "      <td>8.238800e+18</td>\n",
       "      <td>1.405570e+19</td>\n",
       "    </tr>\n",
       "    <tr>\n",
       "      <th>2</th>\n",
       "      <td>2013</td>\n",
       "      <td>2950WJHNSN18PAP</td>\n",
       "      <td>1.100400e+11</td>\n",
       "      <td>JOHNSON CONTROLS BATTERY GROUP INC</td>\n",
       "      <td>1800 PAPER MILL RD</td>\n",
       "      <td>FLORENCE</td>\n",
       "      <td>FLORENCE</td>\n",
       "      <td>SC</td>\n",
       "      <td>29506</td>\n",
       "      <td>NaN</td>\n",
       "      <td>...</td>\n",
       "      <td>0.0</td>\n",
       "      <td>0.0</td>\n",
       "      <td>467382.270000</td>\n",
       "      <td>NaN</td>\n",
       "      <td>NaN</td>\n",
       "      <td>7.70</td>\n",
       "      <td>JOHNSON CONTROLS INC</td>\n",
       "      <td>6092860</td>\n",
       "      <td>7.033250e+18</td>\n",
       "      <td>4.364530e+18</td>\n",
       "    </tr>\n",
       "    <tr>\n",
       "      <th>3</th>\n",
       "      <td>2013</td>\n",
       "      <td>64507LTCND2106S</td>\n",
       "      <td>1.100000e+11</td>\n",
       "      <td>ALTEC INDUSTRIES INC</td>\n",
       "      <td>2106 S RIVERSIDE RD</td>\n",
       "      <td>SAINT JOSEPH</td>\n",
       "      <td>BUCHANAN</td>\n",
       "      <td>MO</td>\n",
       "      <td>64507</td>\n",
       "      <td>NaN</td>\n",
       "      <td>...</td>\n",
       "      <td>0.0</td>\n",
       "      <td>0.0</td>\n",
       "      <td>14400.000000</td>\n",
       "      <td>NaN</td>\n",
       "      <td>NaN</td>\n",
       "      <td>1.02</td>\n",
       "      <td>ALTEC INDUSTRIES INC</td>\n",
       "      <td>4001731</td>\n",
       "      <td>1.705840e+19</td>\n",
       "      <td>1.339830e+19</td>\n",
       "    </tr>\n",
       "    <tr>\n",
       "      <th>4</th>\n",
       "      <td>2013</td>\n",
       "      <td>27260THLLL1717E</td>\n",
       "      <td>1.100000e+11</td>\n",
       "      <td>ENGINEERED POLYMER SOLUTIONS INC D/B/A VALSPAR...</td>\n",
       "      <td>1717 WEST ENGLISH RD</td>\n",
       "      <td>HIGH POINT</td>\n",
       "      <td>GUILFORD</td>\n",
       "      <td>NC</td>\n",
       "      <td>27262</td>\n",
       "      <td>NaN</td>\n",
       "      <td>...</td>\n",
       "      <td>0.0</td>\n",
       "      <td>1088.0</td>\n",
       "      <td>15575.000000</td>\n",
       "      <td>NaN</td>\n",
       "      <td>NaN</td>\n",
       "      <td>1.15</td>\n",
       "      <td>THE VALSPAR CORP</td>\n",
       "      <td>50736453</td>\n",
       "      <td>3.383540e+18</td>\n",
       "      <td>1.285110e+19</td>\n",
       "    </tr>\n",
       "  </tbody>\n",
       "</table>\n",
       "<p>5 rows × 111 columns</p>\n",
       "</div>"
      ],
      "text/plain": [
       "   YEAR  TRI_FACILITY_ID        FRS_ID  \\\n",
       "0  2013  9921WCNTRL851NC  1.100150e+11   \n",
       "1  2013  7522WLTTMR1362B  1.100550e+11   \n",
       "2  2013  2950WJHNSN18PAP  1.100400e+11   \n",
       "3  2013  64507LTCND2106S  1.100000e+11   \n",
       "4  2013  27260THLLL1717E  1.100000e+11   \n",
       "\n",
       "                                       FACILITY_NAME        STREET_ADDRESS  \\\n",
       "0     CENTRAL PRE-MIX CONCRETE CO CRESTLINE FACILITY      8510 N CRESTLINE   \n",
       "1               LATTIMORE MATERIALS CORP - DALLAS RM         10362 BICKHAM   \n",
       "2                 JOHNSON CONTROLS BATTERY GROUP INC    1800 PAPER MILL RD   \n",
       "3                               ALTEC INDUSTRIES INC   2106 S RIVERSIDE RD   \n",
       "4  ENGINEERED POLYMER SOLUTIONS INC D/B/A VALSPAR...  1717 WEST ENGLISH RD   \n",
       "\n",
       "           CITY    COUNTY  ST    ZIP  BIA_CODE  \\\n",
       "0       SPOKANE   SPOKANE  WA  99217       NaN   \n",
       "1        DALLAS    DALLAS  TX  75220       NaN   \n",
       "2      FLORENCE  FLORENCE  SC  29506       NaN   \n",
       "3  SAINT JOSEPH  BUCHANAN  MO  64507       NaN   \n",
       "4    HIGH POINT  GUILFORD  NC  27262       NaN   \n",
       "\n",
       "                ...               8.6_TREATMENT_ON-SITE  \\\n",
       "0               ...                                 0.0   \n",
       "1               ...                                 0.0   \n",
       "2               ...                                 0.0   \n",
       "3               ...                                 0.0   \n",
       "4               ...                                 0.0   \n",
       "\n",
       "   8.7_TREATMENT_OFF-SITE  PROD._WASTE_(8.1_THRU_8.7) 8.8_ONE-TIME_RELEASE  \\\n",
       "0                     0.0                   52.280365                  NaN   \n",
       "1                     0.0                   67.500000                  NaN   \n",
       "2                     0.0               467382.270000                  NaN   \n",
       "3                     0.0                14400.000000                  NaN   \n",
       "4                  1088.0                15575.000000                  NaN   \n",
       "\n",
       "   PROD_RATIO_OR_ACTIVITY 8.9_PRODUCTION_RATIO   PARENT_COMPANY_NAME  \\\n",
       "0                     NaN                 0.70         OLDCASTLE INC   \n",
       "1                     NaN                 0.95       HOLCIM (US) INC   \n",
       "2                     NaN                 7.70  JOHNSON CONTROLS INC   \n",
       "3                     NaN                 1.02  ALTEC INDUSTRIES INC   \n",
       "4                     NaN                 1.15      THE VALSPAR CORP   \n",
       "\n",
       "   PARENT_COMPANY_DB_NUMBER  SYS_STSITSSXSOLCHJPSAF7486K4RV  \\\n",
       "0                  37176591                    4.562800e+18   \n",
       "1                 622258929                    8.238800e+18   \n",
       "2                   6092860                    7.033250e+18   \n",
       "3                   4001731                    1.705840e+19   \n",
       "4                  50736453                    3.383540e+18   \n",
       "\n",
       "   SYS_STSWGMX8O#197_NPUKVK#S5$QM  \n",
       "0                    1.022380e+19  \n",
       "1                    1.405570e+19  \n",
       "2                    4.364530e+18  \n",
       "3                    1.339830e+19  \n",
       "4                    1.285110e+19  \n",
       "\n",
       "[5 rows x 111 columns]"
      ]
     },
     "execution_count": 21,
     "metadata": {},
     "output_type": "execute_result"
    }
   ],
   "source": [
    "TRI_2013.head()"
   ]
  },
  {
   "cell_type": "code",
   "execution_count": 22,
   "metadata": {
    "collapsed": false,
    "scrolled": true
   },
   "outputs": [
    {
     "name": "stdout",
     "output_type": "stream",
     "text": [
      "<class 'pandas.core.frame.DataFrame'>\n",
      "RangeIndex: 82898 entries, 0 to 82897\n",
      "Columns: 111 entries, YEAR to SYS_STSWGMX8O#197_NPUKVK#S5$QM\n",
      "dtypes: float64(80), int64(12), object(19)\n",
      "memory usage: 64.2+ MB\n"
     ]
    }
   ],
   "source": [
    "TRI_2013.info()"
   ]
  },
  {
   "cell_type": "markdown",
   "metadata": {},
   "source": [
    "### Filter dataframe \"TRI_2013\" for petroleum sector emissions\n",
    "\n",
    "Then, create a new dataframe of only petroleum sector emissions called \"Petro_2013\""
   ]
  },
  {
   "cell_type": "code",
   "execution_count": 23,
   "metadata": {
    "collapsed": false,
    "scrolled": false
   },
   "outputs": [],
   "source": [
    "Petro_2013 = TRI_2013[TRI_2013.INDUSTRY_SECTOR == \"Petroleum\"]"
   ]
  },
  {
   "cell_type": "code",
   "execution_count": 24,
   "metadata": {
    "collapsed": false
   },
   "outputs": [
    {
     "name": "stdout",
     "output_type": "stream",
     "text": [
      "<class 'pandas.core.frame.DataFrame'>\n",
      "Int64Index: 5454 entries, 12 to 82875\n",
      "Columns: 111 entries, YEAR to SYS_STSWGMX8O#197_NPUKVK#S5$QM\n",
      "dtypes: float64(80), int64(12), object(19)\n",
      "memory usage: 4.3+ MB\n"
     ]
    }
   ],
   "source": [
    "Petro_2013.info()"
   ]
  },
  {
   "cell_type": "code",
   "execution_count": 25,
   "metadata": {
    "collapsed": false
   },
   "outputs": [],
   "source": [
    "Ben_Petro_2013 = Petro_2013[Petro_2013.CHEMICAL == \"BENZENE\"]"
   ]
  },
  {
   "cell_type": "code",
   "execution_count": 26,
   "metadata": {
    "collapsed": false
   },
   "outputs": [
    {
     "name": "stdout",
     "output_type": "stream",
     "text": [
      "<class 'pandas.core.frame.DataFrame'>\n",
      "Int64Index: 170 entries, 122 to 82753\n",
      "Columns: 111 entries, YEAR to SYS_STSWGMX8O#197_NPUKVK#S5$QM\n",
      "dtypes: float64(80), int64(12), object(19)\n",
      "memory usage: 136.1+ KB\n"
     ]
    }
   ],
   "source": [
    "Ben_Petro_2013.info()"
   ]
  },
  {
   "cell_type": "markdown",
   "metadata": {},
   "source": [
    "Since emissions can be reported in pounds and grams in the column \"UNIT_OF_MEASURE,\" check whether benzene emissions are also reported in grams"
   ]
  },
  {
   "cell_type": "code",
   "execution_count": 27,
   "metadata": {
    "collapsed": false
   },
   "outputs": [
    {
     "data": {
      "text/html": [
       "<div>\n",
       "<table border=\"1\" class=\"dataframe\">\n",
       "  <thead>\n",
       "    <tr style=\"text-align: right;\">\n",
       "      <th></th>\n",
       "      <th>index</th>\n",
       "      <th>UNIT_OF_MEASURE</th>\n",
       "    </tr>\n",
       "  </thead>\n",
       "  <tbody>\n",
       "    <tr>\n",
       "      <th>0</th>\n",
       "      <td>Pounds</td>\n",
       "      <td>170</td>\n",
       "    </tr>\n",
       "  </tbody>\n",
       "</table>\n",
       "</div>"
      ],
      "text/plain": [
       "    index  UNIT_OF_MEASURE\n",
       "0  Pounds              170"
      ]
     },
     "execution_count": 27,
     "metadata": {},
     "output_type": "execute_result"
    }
   ],
   "source": [
    "Ben_Petro_2013.UNIT_OF_MEASURE.value_counts().reset_index()"
   ]
  },
  {
   "cell_type": "markdown",
   "metadata": {},
   "source": [
    "Good, no benzene emissions were reported in grams so I don't have different units to worry about."
   ]
  },
  {
   "cell_type": "code",
   "execution_count": 28,
   "metadata": {
    "collapsed": true
   },
   "outputs": [],
   "source": [
    "Ben_Petro_2013.to_csv(\"C:/Users/Luckbug/Code/emissions/Ben_Petro_2013.csv\")"
   ]
  }
 ],
 "metadata": {
  "kernelspec": {
   "display_name": "Python 2",
   "language": "python",
   "name": "python2"
  },
  "language_info": {
   "codemirror_mode": {
    "name": "ipython",
    "version": 2
   },
   "file_extension": ".py",
   "mimetype": "text/x-python",
   "name": "python",
   "nbconvert_exporter": "python",
   "pygments_lexer": "ipython2",
   "version": "2.7.11"
  }
 },
 "nbformat": 4,
 "nbformat_minor": 0
}
