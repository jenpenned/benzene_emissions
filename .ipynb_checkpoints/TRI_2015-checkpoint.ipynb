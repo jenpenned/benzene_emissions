{
 "cells": [
  {
   "cell_type": "markdown",
   "metadata": {},
   "source": [
    "# Benzene emissions from the petroleum industry section from TRI 2015"
   ]
  },
  {
   "cell_type": "code",
   "execution_count": 20,
   "metadata": {
    "collapsed": false
   },
   "outputs": [],
   "source": [
    "import pandas as pd"
   ]
  },
  {
   "cell_type": "code",
   "execution_count": 21,
   "metadata": {
    "collapsed": false
   },
   "outputs": [],
   "source": [
    "TRI_2015 = pd.read_csv(\"C:/Users/Luckbug/Code/emissions/TRI/TRI_2015_US.csv\")"
   ]
  },
  {
   "cell_type": "code",
   "execution_count": 22,
   "metadata": {
    "collapsed": false
   },
   "outputs": [
    {
     "data": {
      "text/html": [
       "<div>\n",
       "<table border=\"1\" class=\"dataframe\">\n",
       "  <thead>\n",
       "    <tr style=\"text-align: right;\">\n",
       "      <th></th>\n",
       "      <th>YEAR</th>\n",
       "      <th>TRI_FACILITY_ID</th>\n",
       "      <th>FRS_ID</th>\n",
       "      <th>FACILITY_NAME</th>\n",
       "      <th>STREET_ADDRESS</th>\n",
       "      <th>CITY</th>\n",
       "      <th>COUNTY</th>\n",
       "      <th>ST</th>\n",
       "      <th>ZIP</th>\n",
       "      <th>BIA_CODE</th>\n",
       "      <th>...</th>\n",
       "      <th>8.6_TREATMENT_ON-SITE</th>\n",
       "      <th>8.7_TREATMENT_OFF-SITE</th>\n",
       "      <th>PROD._WASTE_(8.1_THRU_8.7)</th>\n",
       "      <th>8.8_ONE-TIME_RELEASE</th>\n",
       "      <th>PROD_RATIO_OR_ACTIVITY</th>\n",
       "      <th>8.9_PRODUCTION_RATIO</th>\n",
       "      <th>PARENT_COMPANY_NAME</th>\n",
       "      <th>PARENT_COMPANY_DB_NUMBER</th>\n",
       "      <th>SYS_STSITSSXSOLCHJPSAF7486K4RV</th>\n",
       "      <th>SYS_STSWGMX8O#197_NPUKVK#S5$QM</th>\n",
       "    </tr>\n",
       "  </thead>\n",
       "  <tbody>\n",
       "    <tr>\n",
       "      <th>0</th>\n",
       "      <td>2015</td>\n",
       "      <td>56071MNNST4077T</td>\n",
       "      <td>1.100410e+11</td>\n",
       "      <td>CHART INC</td>\n",
       "      <td>407 7TH ST NW</td>\n",
       "      <td>NEW PRAGUE</td>\n",
       "      <td>SCOTT</td>\n",
       "      <td>MN</td>\n",
       "      <td>56071</td>\n",
       "      <td>NaN</td>\n",
       "      <td>...</td>\n",
       "      <td>0.0</td>\n",
       "      <td>0.00</td>\n",
       "      <td>82365.0</td>\n",
       "      <td>0.0</td>\n",
       "      <td>PRODUCTION</td>\n",
       "      <td>0.99</td>\n",
       "      <td>CHART INDUSTRIES INC</td>\n",
       "      <td>102279817</td>\n",
       "      <td>1.089210e+19</td>\n",
       "      <td>6.307430e+18</td>\n",
       "    </tr>\n",
       "    <tr>\n",
       "      <th>1</th>\n",
       "      <td>2015</td>\n",
       "      <td>64633CRRLL2MILE</td>\n",
       "      <td>1.100410e+11</td>\n",
       "      <td>SINCLAIR CARROLLTON STATION</td>\n",
       "      <td>25872 OLD HWY 24</td>\n",
       "      <td>CARROLLTON</td>\n",
       "      <td>CARROLL</td>\n",
       "      <td>MO</td>\n",
       "      <td>64633</td>\n",
       "      <td>NaN</td>\n",
       "      <td>...</td>\n",
       "      <td>0.0</td>\n",
       "      <td>0.00</td>\n",
       "      <td>0.0</td>\n",
       "      <td>NaN</td>\n",
       "      <td>PRODUCTION</td>\n",
       "      <td>0.99</td>\n",
       "      <td>SINCLAIR OIL CORP</td>\n",
       "      <td>79959185</td>\n",
       "      <td>1.801910e+19</td>\n",
       "      <td>1.013930e+19</td>\n",
       "    </tr>\n",
       "    <tr>\n",
       "      <th>2</th>\n",
       "      <td>2015</td>\n",
       "      <td>48239DTRTD13400</td>\n",
       "      <td>1.100000e+11</td>\n",
       "      <td>DETROIT DIESEL CORP REDFORD FACILITY</td>\n",
       "      <td>13400 OUTER DR W</td>\n",
       "      <td>DETROIT</td>\n",
       "      <td>WAYNE</td>\n",
       "      <td>MI</td>\n",
       "      <td>48239</td>\n",
       "      <td>NaN</td>\n",
       "      <td>...</td>\n",
       "      <td>380.0</td>\n",
       "      <td>6474.04</td>\n",
       "      <td>10317.0</td>\n",
       "      <td>NaN</td>\n",
       "      <td>PRODUCTION</td>\n",
       "      <td>1.00</td>\n",
       "      <td>DAIMLER TRUCKS N.A. LLC</td>\n",
       "      <td>61315107</td>\n",
       "      <td>1.109530e+19</td>\n",
       "      <td>4.775780e+18</td>\n",
       "    </tr>\n",
       "    <tr>\n",
       "      <th>3</th>\n",
       "      <td>2015</td>\n",
       "      <td>07008XFRDS600MI</td>\n",
       "      <td>1.100000e+11</td>\n",
       "      <td>BRUKER OST LLC</td>\n",
       "      <td>600 MILIK ST</td>\n",
       "      <td>CARTERET</td>\n",
       "      <td>MIDDLESEX</td>\n",
       "      <td>NJ</td>\n",
       "      <td>7008</td>\n",
       "      <td>NaN</td>\n",
       "      <td>...</td>\n",
       "      <td>0.0</td>\n",
       "      <td>0.00</td>\n",
       "      <td>20501.0</td>\n",
       "      <td>NaN</td>\n",
       "      <td>PRODUCTION</td>\n",
       "      <td>0.93</td>\n",
       "      <td>NaN</td>\n",
       "      <td>NaN</td>\n",
       "      <td>2.291950e+18</td>\n",
       "      <td>9.529100e+18</td>\n",
       "    </tr>\n",
       "    <tr>\n",
       "      <th>4</th>\n",
       "      <td>2015</td>\n",
       "      <td>41045KNTCKUS42P</td>\n",
       "      <td>1.100010e+11</td>\n",
       "      <td>KENTUCKY UTILITIES CO GHENT STATION</td>\n",
       "      <td>9485 US HWY 42E</td>\n",
       "      <td>GHENT</td>\n",
       "      <td>CARROLL</td>\n",
       "      <td>KY</td>\n",
       "      <td>41045</td>\n",
       "      <td>NaN</td>\n",
       "      <td>...</td>\n",
       "      <td>0.0</td>\n",
       "      <td>0.00</td>\n",
       "      <td>117863.0</td>\n",
       "      <td>NaN</td>\n",
       "      <td>PRODUCTION</td>\n",
       "      <td>1.00</td>\n",
       "      <td>PPL CORP</td>\n",
       "      <td>621101484</td>\n",
       "      <td>5.838960e+18</td>\n",
       "      <td>1.302870e+19</td>\n",
       "    </tr>\n",
       "  </tbody>\n",
       "</table>\n",
       "<p>5 rows × 111 columns</p>\n",
       "</div>"
      ],
      "text/plain": [
       "   YEAR  TRI_FACILITY_ID        FRS_ID                         FACILITY_NAME  \\\n",
       "0  2015  56071MNNST4077T  1.100410e+11                             CHART INC   \n",
       "1  2015  64633CRRLL2MILE  1.100410e+11           SINCLAIR CARROLLTON STATION   \n",
       "2  2015  48239DTRTD13400  1.100000e+11  DETROIT DIESEL CORP REDFORD FACILITY   \n",
       "3  2015  07008XFRDS600MI  1.100000e+11                        BRUKER OST LLC   \n",
       "4  2015  41045KNTCKUS42P  1.100010e+11   KENTUCKY UTILITIES CO GHENT STATION   \n",
       "\n",
       "     STREET_ADDRESS        CITY     COUNTY  ST    ZIP  BIA_CODE  \\\n",
       "0     407 7TH ST NW  NEW PRAGUE      SCOTT  MN  56071       NaN   \n",
       "1  25872 OLD HWY 24  CARROLLTON    CARROLL  MO  64633       NaN   \n",
       "2  13400 OUTER DR W     DETROIT      WAYNE  MI  48239       NaN   \n",
       "3      600 MILIK ST    CARTERET  MIDDLESEX  NJ   7008       NaN   \n",
       "4   9485 US HWY 42E       GHENT    CARROLL  KY  41045       NaN   \n",
       "\n",
       "                ...               8.6_TREATMENT_ON-SITE  \\\n",
       "0               ...                                 0.0   \n",
       "1               ...                                 0.0   \n",
       "2               ...                               380.0   \n",
       "3               ...                                 0.0   \n",
       "4               ...                                 0.0   \n",
       "\n",
       "   8.7_TREATMENT_OFF-SITE  PROD._WASTE_(8.1_THRU_8.7) 8.8_ONE-TIME_RELEASE  \\\n",
       "0                    0.00                     82365.0                  0.0   \n",
       "1                    0.00                         0.0                  NaN   \n",
       "2                 6474.04                     10317.0                  NaN   \n",
       "3                    0.00                     20501.0                  NaN   \n",
       "4                    0.00                    117863.0                  NaN   \n",
       "\n",
       "   PROD_RATIO_OR_ACTIVITY 8.9_PRODUCTION_RATIO      PARENT_COMPANY_NAME  \\\n",
       "0              PRODUCTION                 0.99     CHART INDUSTRIES INC   \n",
       "1              PRODUCTION                 0.99        SINCLAIR OIL CORP   \n",
       "2              PRODUCTION                 1.00  DAIMLER TRUCKS N.A. LLC   \n",
       "3              PRODUCTION                 0.93                      NaN   \n",
       "4              PRODUCTION                 1.00                 PPL CORP   \n",
       "\n",
       "   PARENT_COMPANY_DB_NUMBER  SYS_STSITSSXSOLCHJPSAF7486K4RV  \\\n",
       "0                 102279817                    1.089210e+19   \n",
       "1                  79959185                    1.801910e+19   \n",
       "2                  61315107                    1.109530e+19   \n",
       "3                       NaN                    2.291950e+18   \n",
       "4                 621101484                    5.838960e+18   \n",
       "\n",
       "   SYS_STSWGMX8O#197_NPUKVK#S5$QM  \n",
       "0                    6.307430e+18  \n",
       "1                    1.013930e+19  \n",
       "2                    4.775780e+18  \n",
       "3                    9.529100e+18  \n",
       "4                    1.302870e+19  \n",
       "\n",
       "[5 rows x 111 columns]"
      ]
     },
     "execution_count": 22,
     "metadata": {},
     "output_type": "execute_result"
    }
   ],
   "source": [
    "TRI_2015.head()"
   ]
  },
  {
   "cell_type": "code",
   "execution_count": 23,
   "metadata": {
    "collapsed": false,
    "scrolled": true
   },
   "outputs": [
    {
     "name": "stdout",
     "output_type": "stream",
     "text": [
      "<class 'pandas.core.frame.DataFrame'>\n",
      "RangeIndex: 81594 entries, 0 to 81593\n",
      "Columns: 111 entries, YEAR to SYS_STSWGMX8O#197_NPUKVK#S5$QM\n",
      "dtypes: float64(79), int64(12), object(20)\n",
      "memory usage: 62.9+ MB\n"
     ]
    }
   ],
   "source": [
    "TRI_2015.info()"
   ]
  },
  {
   "cell_type": "markdown",
   "metadata": {},
   "source": [
    "### Filter dataframe \"TRI_2015\" for petroleum sector emissions\n",
    "\n",
    "Then, create a new dataframe of only petroleum sector emissions called \"Petro_2015\""
   ]
  },
  {
   "cell_type": "code",
   "execution_count": 24,
   "metadata": {
    "collapsed": false,
    "scrolled": false
   },
   "outputs": [],
   "source": [
    "Petro_2015 = TRI_2015[TRI_2015.INDUSTRY_SECTOR == \"Petroleum\"]"
   ]
  },
  {
   "cell_type": "code",
   "execution_count": 25,
   "metadata": {
    "collapsed": false
   },
   "outputs": [
    {
     "name": "stdout",
     "output_type": "stream",
     "text": [
      "<class 'pandas.core.frame.DataFrame'>\n",
      "Int64Index: 5469 entries, 17 to 81574\n",
      "Columns: 111 entries, YEAR to SYS_STSWGMX8O#197_NPUKVK#S5$QM\n",
      "dtypes: float64(79), int64(12), object(20)\n",
      "memory usage: 4.3+ MB\n"
     ]
    }
   ],
   "source": [
    "Petro_2015.info()"
   ]
  },
  {
   "cell_type": "code",
   "execution_count": 26,
   "metadata": {
    "collapsed": false
   },
   "outputs": [],
   "source": [
    "Ben_Petro_2015 = Petro_2015[Petro_2015.CHEMICAL == \"BENZENE\"]"
   ]
  },
  {
   "cell_type": "code",
   "execution_count": 27,
   "metadata": {
    "collapsed": false
   },
   "outputs": [
    {
     "name": "stdout",
     "output_type": "stream",
     "text": [
      "<class 'pandas.core.frame.DataFrame'>\n",
      "Int64Index: 165 entries, 343 to 80918\n",
      "Columns: 111 entries, YEAR to SYS_STSWGMX8O#197_NPUKVK#S5$QM\n",
      "dtypes: float64(79), int64(12), object(20)\n",
      "memory usage: 131.5+ KB\n"
     ]
    }
   ],
   "source": [
    "Ben_Petro_2015.info()"
   ]
  },
  {
   "cell_type": "markdown",
   "metadata": {},
   "source": [
    "Since emissions can be reported in pounds and grams in the column \"UNIT_OF_MEASURE,\" check whether benzene emissions are also reported in grams"
   ]
  },
  {
   "cell_type": "code",
   "execution_count": 28,
   "metadata": {
    "collapsed": false
   },
   "outputs": [
    {
     "data": {
      "text/html": [
       "<div>\n",
       "<table border=\"1\" class=\"dataframe\">\n",
       "  <thead>\n",
       "    <tr style=\"text-align: right;\">\n",
       "      <th></th>\n",
       "      <th>index</th>\n",
       "      <th>UNIT_OF_MEASURE</th>\n",
       "    </tr>\n",
       "  </thead>\n",
       "  <tbody>\n",
       "    <tr>\n",
       "      <th>0</th>\n",
       "      <td>Pounds</td>\n",
       "      <td>165</td>\n",
       "    </tr>\n",
       "  </tbody>\n",
       "</table>\n",
       "</div>"
      ],
      "text/plain": [
       "    index  UNIT_OF_MEASURE\n",
       "0  Pounds              165"
      ]
     },
     "execution_count": 28,
     "metadata": {},
     "output_type": "execute_result"
    }
   ],
   "source": [
    "Ben_Petro_2015.UNIT_OF_MEASURE.value_counts().reset_index()"
   ]
  },
  {
   "cell_type": "markdown",
   "metadata": {},
   "source": [
    "Good, no benzene emissions were reported in grams so I don't have different units to worry about."
   ]
  },
  {
   "cell_type": "code",
   "execution_count": 29,
   "metadata": {
    "collapsed": true
   },
   "outputs": [],
   "source": [
    "Ben_Petro_2015.to_csv(\"C:/Users/Luckbug/Code/emissions/Ben_Petro_2015.csv\")"
   ]
  }
 ],
 "metadata": {
  "kernelspec": {
   "display_name": "Python 2",
   "language": "python",
   "name": "python2"
  },
  "language_info": {
   "codemirror_mode": {
    "name": "ipython",
    "version": 2
   },
   "file_extension": ".py",
   "mimetype": "text/x-python",
   "name": "python",
   "nbconvert_exporter": "python",
   "pygments_lexer": "ipython2",
   "version": "2.7.11"
  }
 },
 "nbformat": 4,
 "nbformat_minor": 0
}
