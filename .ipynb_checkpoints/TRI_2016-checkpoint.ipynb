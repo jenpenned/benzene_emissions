{
 "cells": [
  {
   "cell_type": "markdown",
   "metadata": {},
   "source": [
    "# Benzene emissions from the petroleum industry section from TRI 2016"
   ]
  },
  {
   "cell_type": "code",
   "execution_count": 10,
   "metadata": {
    "collapsed": false
   },
   "outputs": [],
   "source": [
    "import pandas as pd"
   ]
  },
  {
   "cell_type": "code",
   "execution_count": 11,
   "metadata": {
    "collapsed": false
   },
   "outputs": [],
   "source": [
    "TRI_2016 = pd.read_csv(\"C:/Users/Luckbug/Code/emissions/TRI/TRI_2016_US.csv\")"
   ]
  },
  {
   "cell_type": "code",
   "execution_count": 12,
   "metadata": {
    "collapsed": false
   },
   "outputs": [
    {
     "data": {
      "text/html": [
       "<div>\n",
       "<table border=\"1\" class=\"dataframe\">\n",
       "  <thead>\n",
       "    <tr style=\"text-align: right;\">\n",
       "      <th></th>\n",
       "      <th>YEAR</th>\n",
       "      <th>TRI_FACILITY_ID</th>\n",
       "      <th>FRS_ID</th>\n",
       "      <th>FACILITY_NAME</th>\n",
       "      <th>STREET_ADDRESS</th>\n",
       "      <th>CITY</th>\n",
       "      <th>COUNTY</th>\n",
       "      <th>ST</th>\n",
       "      <th>ZIP</th>\n",
       "      <th>BIA_CODE</th>\n",
       "      <th>...</th>\n",
       "      <th>8.6_TREATMENT_ON-SITE</th>\n",
       "      <th>8.7_TREATMENT_OFF-SITE</th>\n",
       "      <th>PROD._WASTE_(8.1_THRU_8.7)</th>\n",
       "      <th>8.8_ONE-TIME_RELEASE</th>\n",
       "      <th>PROD_RATIO_OR_ACTIVITY</th>\n",
       "      <th>8.9_PRODUCTION_RATIO</th>\n",
       "      <th>PARENT_COMPANY_NAME</th>\n",
       "      <th>PARENT_COMPANY_DB_NUMBER</th>\n",
       "      <th>SYS_STSITSSXSOLCHJPSAF7486K4RV</th>\n",
       "      <th>SYS_STSWGMX8O#197_NPUKVK#S5$QM</th>\n",
       "    </tr>\n",
       "  </thead>\n",
       "  <tbody>\n",
       "    <tr>\n",
       "      <th>0</th>\n",
       "      <td>2016</td>\n",
       "      <td>61008BLVDR3000W</td>\n",
       "      <td>1.100000e+11</td>\n",
       "      <td>FCA US BELVIDERE ASSEMBLY PLANT</td>\n",
       "      <td>3000 W CHRYSLER DR</td>\n",
       "      <td>BELVIDERE</td>\n",
       "      <td>BOONE</td>\n",
       "      <td>IL</td>\n",
       "      <td>61008</td>\n",
       "      <td>NaN</td>\n",
       "      <td>...</td>\n",
       "      <td>0.0</td>\n",
       "      <td>0.00</td>\n",
       "      <td>331.00</td>\n",
       "      <td>NaN</td>\n",
       "      <td>PRODUCTION</td>\n",
       "      <td>0.82</td>\n",
       "      <td>FCA US LLC</td>\n",
       "      <td>830966904</td>\n",
       "      <td>2.454660e+18</td>\n",
       "      <td>1.789280e+19</td>\n",
       "    </tr>\n",
       "    <tr>\n",
       "      <th>1</th>\n",
       "      <td>2016</td>\n",
       "      <td>98221PGTSN600ST</td>\n",
       "      <td>1.100080e+11</td>\n",
       "      <td>SHELL OIL PRODUCTS US - PUGET SOUND REFINERY</td>\n",
       "      <td>8505 SOUTH TEXAS RD</td>\n",
       "      <td>ANACORTES</td>\n",
       "      <td>SKAGIT</td>\n",
       "      <td>WA</td>\n",
       "      <td>98221</td>\n",
       "      <td>NaN</td>\n",
       "      <td>...</td>\n",
       "      <td>0.0</td>\n",
       "      <td>0.00</td>\n",
       "      <td>43917.00</td>\n",
       "      <td>NaN</td>\n",
       "      <td>ACTIVITY</td>\n",
       "      <td>1.04</td>\n",
       "      <td>SHELL OIL CO</td>\n",
       "      <td>131489817</td>\n",
       "      <td>1.003930e+19</td>\n",
       "      <td>1.819180e+19</td>\n",
       "    </tr>\n",
       "    <tr>\n",
       "      <th>2</th>\n",
       "      <td>2016</td>\n",
       "      <td>54880MRPHY24THA</td>\n",
       "      <td>1.100000e+11</td>\n",
       "      <td>CALUMET SUPERIOR LLC</td>\n",
       "      <td>2407 STINSON AVE</td>\n",
       "      <td>SUPERIOR</td>\n",
       "      <td>DOUGLAS</td>\n",
       "      <td>WI</td>\n",
       "      <td>54880</td>\n",
       "      <td>NaN</td>\n",
       "      <td>...</td>\n",
       "      <td>113231.8</td>\n",
       "      <td>7.70</td>\n",
       "      <td>141399.00</td>\n",
       "      <td>NaN</td>\n",
       "      <td>PRODUCTION</td>\n",
       "      <td>0.96</td>\n",
       "      <td>CALUMET SPECIALTY PRODUCTS PARTNERS LP</td>\n",
       "      <td>620499699</td>\n",
       "      <td>1.289740e+18</td>\n",
       "      <td>1.272160e+19</td>\n",
       "    </tr>\n",
       "    <tr>\n",
       "      <th>3</th>\n",
       "      <td>2016</td>\n",
       "      <td>35601MCCHMFINLE</td>\n",
       "      <td>1.100570e+11</td>\n",
       "      <td>INDORAMA VENTURES XYLENES AND PTA, LLC</td>\n",
       "      <td>1401 FINLEY ISLAND RD</td>\n",
       "      <td>DECATUR</td>\n",
       "      <td>MORGAN</td>\n",
       "      <td>AL</td>\n",
       "      <td>35601</td>\n",
       "      <td>NaN</td>\n",
       "      <td>...</td>\n",
       "      <td>4900.0</td>\n",
       "      <td>45.30</td>\n",
       "      <td>24845.30</td>\n",
       "      <td>NaN</td>\n",
       "      <td>PRODUCTION</td>\n",
       "      <td>1.04</td>\n",
       "      <td>INDORAMA VENTURES PUBLIC CO LTD</td>\n",
       "      <td>671584550</td>\n",
       "      <td>1.489530e+19</td>\n",
       "      <td>1.622850e+19</td>\n",
       "    </tr>\n",
       "    <tr>\n",
       "      <th>4</th>\n",
       "      <td>2016</td>\n",
       "      <td>94802CHVRN576ST</td>\n",
       "      <td>1.100000e+11</td>\n",
       "      <td>CHEVRON RICHMOND TECHNOLOGY CENTER</td>\n",
       "      <td>100 CHEVRON WAY</td>\n",
       "      <td>RICHMOND</td>\n",
       "      <td>CONTRA COSTA</td>\n",
       "      <td>CA</td>\n",
       "      <td>94801</td>\n",
       "      <td>NaN</td>\n",
       "      <td>...</td>\n",
       "      <td>0.0</td>\n",
       "      <td>25.01</td>\n",
       "      <td>867.55</td>\n",
       "      <td>2.161</td>\n",
       "      <td>ACTIVITY</td>\n",
       "      <td>0.64</td>\n",
       "      <td>CHEVRON CORP</td>\n",
       "      <td>1382555</td>\n",
       "      <td>1.424200e+19</td>\n",
       "      <td>1.664700e+19</td>\n",
       "    </tr>\n",
       "  </tbody>\n",
       "</table>\n",
       "<p>5 rows × 111 columns</p>\n",
       "</div>"
      ],
      "text/plain": [
       "   YEAR  TRI_FACILITY_ID        FRS_ID  \\\n",
       "0  2016  61008BLVDR3000W  1.100000e+11   \n",
       "1  2016  98221PGTSN600ST  1.100080e+11   \n",
       "2  2016  54880MRPHY24THA  1.100000e+11   \n",
       "3  2016  35601MCCHMFINLE  1.100570e+11   \n",
       "4  2016  94802CHVRN576ST  1.100000e+11   \n",
       "\n",
       "                                  FACILITY_NAME         STREET_ADDRESS  \\\n",
       "0               FCA US BELVIDERE ASSEMBLY PLANT     3000 W CHRYSLER DR   \n",
       "1  SHELL OIL PRODUCTS US - PUGET SOUND REFINERY    8505 SOUTH TEXAS RD   \n",
       "2                          CALUMET SUPERIOR LLC       2407 STINSON AVE   \n",
       "3        INDORAMA VENTURES XYLENES AND PTA, LLC  1401 FINLEY ISLAND RD   \n",
       "4            CHEVRON RICHMOND TECHNOLOGY CENTER        100 CHEVRON WAY   \n",
       "\n",
       "        CITY        COUNTY  ST    ZIP  BIA_CODE  \\\n",
       "0  BELVIDERE         BOONE  IL  61008       NaN   \n",
       "1  ANACORTES        SKAGIT  WA  98221       NaN   \n",
       "2   SUPERIOR       DOUGLAS  WI  54880       NaN   \n",
       "3    DECATUR        MORGAN  AL  35601       NaN   \n",
       "4   RICHMOND  CONTRA COSTA  CA  94801       NaN   \n",
       "\n",
       "                ...               8.6_TREATMENT_ON-SITE  \\\n",
       "0               ...                                 0.0   \n",
       "1               ...                                 0.0   \n",
       "2               ...                            113231.8   \n",
       "3               ...                              4900.0   \n",
       "4               ...                                 0.0   \n",
       "\n",
       "   8.7_TREATMENT_OFF-SITE  PROD._WASTE_(8.1_THRU_8.7) 8.8_ONE-TIME_RELEASE  \\\n",
       "0                    0.00                      331.00                  NaN   \n",
       "1                    0.00                    43917.00                  NaN   \n",
       "2                    7.70                   141399.00                  NaN   \n",
       "3                   45.30                    24845.30                  NaN   \n",
       "4                   25.01                      867.55                2.161   \n",
       "\n",
       "   PROD_RATIO_OR_ACTIVITY 8.9_PRODUCTION_RATIO  \\\n",
       "0              PRODUCTION                 0.82   \n",
       "1                ACTIVITY                 1.04   \n",
       "2              PRODUCTION                 0.96   \n",
       "3              PRODUCTION                 1.04   \n",
       "4                ACTIVITY                 0.64   \n",
       "\n",
       "                      PARENT_COMPANY_NAME  PARENT_COMPANY_DB_NUMBER  \\\n",
       "0                              FCA US LLC                 830966904   \n",
       "1                            SHELL OIL CO                 131489817   \n",
       "2  CALUMET SPECIALTY PRODUCTS PARTNERS LP                 620499699   \n",
       "3         INDORAMA VENTURES PUBLIC CO LTD                 671584550   \n",
       "4                            CHEVRON CORP                   1382555   \n",
       "\n",
       "   SYS_STSITSSXSOLCHJPSAF7486K4RV  SYS_STSWGMX8O#197_NPUKVK#S5$QM  \n",
       "0                    2.454660e+18                    1.789280e+19  \n",
       "1                    1.003930e+19                    1.819180e+19  \n",
       "2                    1.289740e+18                    1.272160e+19  \n",
       "3                    1.489530e+19                    1.622850e+19  \n",
       "4                    1.424200e+19                    1.664700e+19  \n",
       "\n",
       "[5 rows x 111 columns]"
      ]
     },
     "execution_count": 12,
     "metadata": {},
     "output_type": "execute_result"
    }
   ],
   "source": [
    "TRI_2016.head()"
   ]
  },
  {
   "cell_type": "code",
   "execution_count": 13,
   "metadata": {
    "collapsed": false,
    "scrolled": true
   },
   "outputs": [
    {
     "name": "stdout",
     "output_type": "stream",
     "text": [
      "<class 'pandas.core.frame.DataFrame'>\n",
      "RangeIndex: 79477 entries, 0 to 79476\n",
      "Columns: 111 entries, YEAR to SYS_STSWGMX8O#197_NPUKVK#S5$QM\n",
      "dtypes: float64(79), int64(12), object(20)\n",
      "memory usage: 61.2+ MB\n"
     ]
    }
   ],
   "source": [
    "TRI_2016.info()"
   ]
  },
  {
   "cell_type": "markdown",
   "metadata": {},
   "source": [
    "### Filter dataframe \"TRI_2016\" for petroleum sector emissions\n",
    "\n",
    "Then, create a new dataframe of only petroleum sector emissions called \"Petro_2016\""
   ]
  },
  {
   "cell_type": "code",
   "execution_count": 14,
   "metadata": {
    "collapsed": false,
    "scrolled": false
   },
   "outputs": [],
   "source": [
    "Petro_2016 = TRI_2016[TRI_2016.INDUSTRY_SECTOR == \"Petroleum\"]"
   ]
  },
  {
   "cell_type": "code",
   "execution_count": 15,
   "metadata": {
    "collapsed": false
   },
   "outputs": [
    {
     "name": "stdout",
     "output_type": "stream",
     "text": [
      "<class 'pandas.core.frame.DataFrame'>\n",
      "Int64Index: 5597 entries, 1 to 79473\n",
      "Columns: 111 entries, YEAR to SYS_STSWGMX8O#197_NPUKVK#S5$QM\n",
      "dtypes: float64(79), int64(12), object(20)\n",
      "memory usage: 4.4+ MB\n"
     ]
    }
   ],
   "source": [
    "Petro_2016.info()"
   ]
  },
  {
   "cell_type": "code",
   "execution_count": 16,
   "metadata": {
    "collapsed": false
   },
   "outputs": [],
   "source": [
    "Ben_Petro_2016 = Petro_2016[Petro_2016.CHEMICAL == \"BENZENE\"]"
   ]
  },
  {
   "cell_type": "code",
   "execution_count": 17,
   "metadata": {
    "collapsed": false
   },
   "outputs": [
    {
     "name": "stdout",
     "output_type": "stream",
     "text": [
      "<class 'pandas.core.frame.DataFrame'>\n",
      "Int64Index: 167 entries, 69 to 79292\n",
      "Columns: 111 entries, YEAR to SYS_STSWGMX8O#197_NPUKVK#S5$QM\n",
      "dtypes: float64(79), int64(12), object(20)\n",
      "memory usage: 133.1+ KB\n"
     ]
    }
   ],
   "source": [
    "Ben_Petro_2016.info()"
   ]
  },
  {
   "cell_type": "markdown",
   "metadata": {},
   "source": [
    "Since emissions can be reported in pounds and grams in the column \"UNIT_OF_MEASURE,\" check whether benzene emissions are also reported in grams"
   ]
  },
  {
   "cell_type": "code",
   "execution_count": 18,
   "metadata": {
    "collapsed": false
   },
   "outputs": [
    {
     "data": {
      "text/html": [
       "<div>\n",
       "<table border=\"1\" class=\"dataframe\">\n",
       "  <thead>\n",
       "    <tr style=\"text-align: right;\">\n",
       "      <th></th>\n",
       "      <th>index</th>\n",
       "      <th>UNIT_OF_MEASURE</th>\n",
       "    </tr>\n",
       "  </thead>\n",
       "  <tbody>\n",
       "    <tr>\n",
       "      <th>0</th>\n",
       "      <td>Pounds</td>\n",
       "      <td>167</td>\n",
       "    </tr>\n",
       "  </tbody>\n",
       "</table>\n",
       "</div>"
      ],
      "text/plain": [
       "    index  UNIT_OF_MEASURE\n",
       "0  Pounds              167"
      ]
     },
     "execution_count": 18,
     "metadata": {},
     "output_type": "execute_result"
    }
   ],
   "source": [
    "Ben_Petro_2016.UNIT_OF_MEASURE.value_counts().reset_index()"
   ]
  },
  {
   "cell_type": "markdown",
   "metadata": {},
   "source": [
    "Good, no benzene emissions were reported in grams so I don't have different units to worry about."
   ]
  },
  {
   "cell_type": "code",
   "execution_count": 19,
   "metadata": {
    "collapsed": true
   },
   "outputs": [],
   "source": [
    "Ben_Petro_2016.to_csv(\"C:/Users/Luckbug/Code/emissions/Ben_Petro_2016.csv\")"
   ]
  }
 ],
 "metadata": {
  "kernelspec": {
   "display_name": "Python 2",
   "language": "python",
   "name": "python2"
  },
  "language_info": {
   "codemirror_mode": {
    "name": "ipython",
    "version": 2
   },
   "file_extension": ".py",
   "mimetype": "text/x-python",
   "name": "python",
   "nbconvert_exporter": "python",
   "pygments_lexer": "ipython2",
   "version": "2.7.11"
  }
 },
 "nbformat": 4,
 "nbformat_minor": 0
}
