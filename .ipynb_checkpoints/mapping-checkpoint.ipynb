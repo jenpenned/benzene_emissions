{
 "cells": [
  {
   "cell_type": "code",
   "execution_count": 1,
   "metadata": {
    "collapsed": true
   },
   "outputs": [],
   "source": [
    "import pandas as pd"
   ]
  },
  {
   "cell_type": "code",
   "execution_count": 2,
   "metadata": {
    "collapsed": true
   },
   "outputs": [],
   "source": [
    "Ben_Petro_2016 = pd.read_csv(\"C:/Users/Luckbug/Code/emissions/Ben_Petro_2016.csv\")"
   ]
  },
  {
   "cell_type": "code",
   "execution_count": 7,
   "metadata": {
    "collapsed": false
   },
   "outputs": [
    {
     "name": "stdout",
     "output_type": "stream",
     "text": [
      "<class 'pandas.core.frame.DataFrame'>\n",
      "RangeIndex: 167 entries, 0 to 166\n",
      "Columns: 112 entries, Unnamed: 0 to SYS_STSWGMX8O#197_NPUKVK#S5$QM\n",
      "dtypes: float64(80), int64(14), object(18)\n",
      "memory usage: 134.4+ KB\n"
     ]
    }
   ],
   "source": [
    "Ben_Petro_2016.info()"
   ]
  },
  {
   "cell_type": "code",
   "execution_count": 6,
   "metadata": {
    "collapsed": false
   },
   "outputs": [],
   "source": [
    "RRA_list = pd.read_csv(\"C:/Users/Luckbug/Code/emissions/RRA_list.csv\")"
   ]
  },
  {
   "cell_type": "code",
   "execution_count": 9,
   "metadata": {
    "collapsed": false
   },
   "outputs": [
    {
     "name": "stdout",
     "output_type": "stream",
     "text": [
      "<class 'pandas.core.frame.DataFrame'>\n",
      "RangeIndex: 146 entries, 0 to 145\n",
      "Data columns (total 5 columns):\n",
      "Facility NEI ID    146 non-null object\n",
      "Facility Name      146 non-null object\n",
      "Address            145 non-null object\n",
      "City               145 non-null object\n",
      "State              146 non-null object\n",
      "dtypes: object(5)\n",
      "memory usage: 2.9+ KB\n"
     ]
    }
   ],
   "source": [
    "RRA_list.info()"
   ]
  },
  {
   "cell_type": "markdown",
   "metadata": {},
   "source": [
    "### Merge on \"STREET_ADDRESS\" from the Ben_Petro_2016 dataframe and on \"Address\" from RRA_list dataframe. "
   ]
  },
  {
   "cell_type": "code",
   "execution_count": 13,
   "metadata": {
    "collapsed": false
   },
   "outputs": [
    {
     "data": {
      "text/html": [
       "<div>\n",
       "<table border=\"1\" class=\"dataframe\">\n",
       "  <thead>\n",
       "    <tr style=\"text-align: right;\">\n",
       "      <th></th>\n",
       "      <th>Unnamed: 0</th>\n",
       "      <th>YEAR</th>\n",
       "      <th>TRI_FACILITY_ID</th>\n",
       "      <th>FRS_ID</th>\n",
       "      <th>FACILITY_NAME</th>\n",
       "      <th>STREET_ADDRESS</th>\n",
       "      <th>CITY</th>\n",
       "      <th>COUNTY</th>\n",
       "      <th>ST</th>\n",
       "      <th>ZIP</th>\n",
       "      <th>...</th>\n",
       "      <th>8.9_PRODUCTION_RATIO</th>\n",
       "      <th>PARENT_COMPANY_NAME</th>\n",
       "      <th>PARENT_COMPANY_DB_NUMBER</th>\n",
       "      <th>SYS_STSITSSXSOLCHJPSAF7486K4RV</th>\n",
       "      <th>SYS_STSWGMX8O#197_NPUKVK#S5$QM</th>\n",
       "      <th>Facility NEI ID</th>\n",
       "      <th>Facility Name</th>\n",
       "      <th>Address</th>\n",
       "      <th>City</th>\n",
       "      <th>State</th>\n",
       "    </tr>\n",
       "  </thead>\n",
       "  <tbody>\n",
       "    <tr>\n",
       "      <th>0</th>\n",
       "      <td>39542</td>\n",
       "      <td>2016</td>\n",
       "      <td>7908WVLRPR671FM</td>\n",
       "      <td>1.100000e+11</td>\n",
       "      <td>VALERO PARTNERS MCKEE</td>\n",
       "      <td>6701 FM 119</td>\n",
       "      <td>SUNRAY</td>\n",
       "      <td>MOORE</td>\n",
       "      <td>TX</td>\n",
       "      <td>79086</td>\n",
       "      <td>...</td>\n",
       "      <td>NaN</td>\n",
       "      <td>VALERO ENERGY PARTNERS LP</td>\n",
       "      <td>82686916.0</td>\n",
       "      <td>1.703000e+19</td>\n",
       "      <td>4.792400e+17</td>\n",
       "      <td>NEI8139</td>\n",
       "      <td>Valero - Diamond Shamrock Refining Company,\\rL...</td>\n",
       "      <td>6701 FM 119</td>\n",
       "      <td>Sunray</td>\n",
       "      <td>TX</td>\n",
       "    </tr>\n",
       "    <tr>\n",
       "      <th>1</th>\n",
       "      <td>78414</td>\n",
       "      <td>2016</td>\n",
       "      <td>79086DMNDSSTARR</td>\n",
       "      <td>1.100000e+11</td>\n",
       "      <td>DIAMOND SHAMROCK REFINING CO LP</td>\n",
       "      <td>6701 FM 119</td>\n",
       "      <td>SUNRAY</td>\n",
       "      <td>MOORE</td>\n",
       "      <td>TX</td>\n",
       "      <td>79086</td>\n",
       "      <td>...</td>\n",
       "      <td>1.04</td>\n",
       "      <td>VALERO ENERGY CORP</td>\n",
       "      <td>82686916.0</td>\n",
       "      <td>1.703000e+19</td>\n",
       "      <td>4.792400e+17</td>\n",
       "      <td>NEI8139</td>\n",
       "      <td>Valero - Diamond Shamrock Refining Company,\\rL...</td>\n",
       "      <td>6701 FM 119</td>\n",
       "      <td>Sunray</td>\n",
       "      <td>TX</td>\n",
       "    </tr>\n",
       "  </tbody>\n",
       "</table>\n",
       "<p>2 rows × 117 columns</p>\n",
       "</div>"
      ],
      "text/plain": [
       "   Unnamed: 0  YEAR  TRI_FACILITY_ID        FRS_ID  \\\n",
       "0       39542  2016  7908WVLRPR671FM  1.100000e+11   \n",
       "1       78414  2016  79086DMNDSSTARR  1.100000e+11   \n",
       "\n",
       "                     FACILITY_NAME STREET_ADDRESS    CITY COUNTY  ST    ZIP  \\\n",
       "0            VALERO PARTNERS MCKEE    6701 FM 119  SUNRAY  MOORE  TX  79086   \n",
       "1  DIAMOND SHAMROCK REFINING CO LP    6701 FM 119  SUNRAY  MOORE  TX  79086   \n",
       "\n",
       "   ...    8.9_PRODUCTION_RATIO        PARENT_COMPANY_NAME  \\\n",
       "0  ...                     NaN  VALERO ENERGY PARTNERS LP   \n",
       "1  ...                    1.04         VALERO ENERGY CORP   \n",
       "\n",
       "   PARENT_COMPANY_DB_NUMBER  SYS_STSITSSXSOLCHJPSAF7486K4RV  \\\n",
       "0                82686916.0                    1.703000e+19   \n",
       "1                82686916.0                    1.703000e+19   \n",
       "\n",
       "  SYS_STSWGMX8O#197_NPUKVK#S5$QM  Facility NEI ID  \\\n",
       "0                   4.792400e+17          NEI8139   \n",
       "1                   4.792400e+17          NEI8139   \n",
       "\n",
       "                                       Facility Name      Address    City  \\\n",
       "0  Valero - Diamond Shamrock Refining Company,\\rL...  6701 FM 119  Sunray   \n",
       "1  Valero - Diamond Shamrock Refining Company,\\rL...  6701 FM 119  Sunray   \n",
       "\n",
       "   State  \n",
       "0     TX  \n",
       "1     TX  \n",
       "\n",
       "[2 rows x 117 columns]"
      ]
     },
     "execution_count": 13,
     "metadata": {},
     "output_type": "execute_result"
    }
   ],
   "source": [
    "pd.merge(Ben_Petro_2016, RRA_list, left_on=\"STREET_ADDRESS\", right_on=\"Address\")"
   ]
  },
  {
   "cell_type": "markdown",
   "metadata": {
    "collapsed": true
   },
   "source": [
    "Okay, that didn't work since they're only doing exact matches and one df uses uppercases and the other doesn't, for starters..."
   ]
  },
  {
   "cell_type": "code",
   "execution_count": null,
   "metadata": {
    "collapsed": true
   },
   "outputs": [],
   "source": []
  }
 ],
 "metadata": {
  "kernelspec": {
   "display_name": "Python 2",
   "language": "python",
   "name": "python2"
  },
  "language_info": {
   "codemirror_mode": {
    "name": "ipython",
    "version": 2
   },
   "file_extension": ".py",
   "mimetype": "text/x-python",
   "name": "python",
   "nbconvert_exporter": "python",
   "pygments_lexer": "ipython2",
   "version": "2.7.11"
  }
 },
 "nbformat": 4,
 "nbformat_minor": 0
}
