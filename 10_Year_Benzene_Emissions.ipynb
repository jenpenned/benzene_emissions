{
 "cells": [
  {
   "cell_type": "markdown",
   "metadata": {},
   "source": [
    "# Appending filtered TRI datasets from years 2007 through 2016, which have been filtered for benzene emissions from the petroleum sector"
   ]
  },
  {
   "cell_type": "code",
   "execution_count": 24,
   "metadata": {
    "collapsed": true
   },
   "outputs": [],
   "source": [
    "import pandas as pd"
   ]
  },
  {
   "cell_type": "code",
   "execution_count": 25,
   "metadata": {
    "collapsed": false
   },
   "outputs": [],
   "source": [
    "Ben_Petro_2007 = pd.read_csv(\"C:/Users/Luckbug/Code/emissions/Ben_Petro_2007.csv\")"
   ]
  },
  {
   "cell_type": "code",
   "execution_count": 26,
   "metadata": {
    "collapsed": true
   },
   "outputs": [],
   "source": [
    "Ben_Petro_2008 = pd.read_csv(\"C:/Users/Luckbug/Code/emissions/Ben_Petro_2008.csv\")"
   ]
  },
  {
   "cell_type": "code",
   "execution_count": 27,
   "metadata": {
    "collapsed": true
   },
   "outputs": [],
   "source": [
    "Ben_Petro_2009 = pd.read_csv(\"C:/Users/Luckbug/Code/emissions/Ben_Petro_2009.csv\")"
   ]
  },
  {
   "cell_type": "code",
   "execution_count": 28,
   "metadata": {
    "collapsed": true
   },
   "outputs": [],
   "source": [
    "Ben_Petro_2010 = pd.read_csv(\"C:/Users/Luckbug/Code/emissions/Ben_Petro_2010.csv\")"
   ]
  },
  {
   "cell_type": "code",
   "execution_count": 29,
   "metadata": {
    "collapsed": true
   },
   "outputs": [],
   "source": [
    "Ben_Petro_2011 = pd.read_csv(\"C:/Users/Luckbug/Code/emissions/Ben_Petro_2011.csv\")"
   ]
  },
  {
   "cell_type": "code",
   "execution_count": 30,
   "metadata": {
    "collapsed": true
   },
   "outputs": [],
   "source": [
    "Ben_Petro_2012 = pd.read_csv(\"C:/Users/Luckbug/Code/emissions/Ben_Petro_2012.csv\")"
   ]
  },
  {
   "cell_type": "code",
   "execution_count": 31,
   "metadata": {
    "collapsed": true
   },
   "outputs": [],
   "source": [
    "Ben_Petro_2013 = pd.read_csv(\"C:/Users/Luckbug/Code/emissions/Ben_Petro_2013.csv\")"
   ]
  },
  {
   "cell_type": "code",
   "execution_count": 32,
   "metadata": {
    "collapsed": true
   },
   "outputs": [],
   "source": [
    "Ben_Petro_2014 = pd.read_csv(\"C:/Users/Luckbug/Code/emissions/Ben_Petro_2014.csv\")"
   ]
  },
  {
   "cell_type": "code",
   "execution_count": 33,
   "metadata": {
    "collapsed": true
   },
   "outputs": [],
   "source": [
    "Ben_Petro_2015 = pd.read_csv(\"C:/Users/Luckbug/Code/emissions/Ben_Petro_2015.csv\")"
   ]
  },
  {
   "cell_type": "code",
   "execution_count": 34,
   "metadata": {
    "collapsed": true
   },
   "outputs": [],
   "source": [
    "Ben_Petro_2016 = pd.read_csv(\"C:/Users/Luckbug/Code/emissions/Ben_Petro_2016.csv\")"
   ]
  },
  {
   "cell_type": "markdown",
   "metadata": {},
   "source": [
    "### Add all the datasets together using concat"
   ]
  },
  {
   "cell_type": "code",
   "execution_count": 35,
   "metadata": {
    "collapsed": false
   },
   "outputs": [],
   "source": [
    "all = [Ben_Petro_2007, Ben_Petro_2008, Ben_Petro_2009, Ben_Petro_2010, Ben_Petro_2011, Ben_Petro_2012, Ben_Petro_2013, Ben_Petro_2014, Ben_Petro_2015, Ben_Petro_2016]"
   ]
  },
  {
   "cell_type": "code",
   "execution_count": 41,
   "metadata": {
    "collapsed": false
   },
   "outputs": [],
   "source": [
    "Ben_10 = pd.concat(all)"
   ]
  },
  {
   "cell_type": "code",
   "execution_count": 42,
   "metadata": {
    "collapsed": false
   },
   "outputs": [
    {
     "name": "stdout",
     "output_type": "stream",
     "text": [
      "<class 'pandas.core.frame.DataFrame'>\n",
      "Int64Index: 1605 entries, 0 to 166\n",
      "Columns: 112 entries, Unnamed: 0 to SYS_STSWGMX8O#197_NPUKVK#S5$QM\n",
      "dtypes: float64(84), int64(10), object(18)\n",
      "memory usage: 1.3+ MB\n"
     ]
    }
   ],
   "source": [
    "Ben_10.info()"
   ]
  },
  {
   "cell_type": "code",
   "execution_count": 43,
   "metadata": {
    "collapsed": false
   },
   "outputs": [
    {
     "data": {
      "text/html": [
       "<div>\n",
       "<table border=\"1\" class=\"dataframe\">\n",
       "  <thead>\n",
       "    <tr style=\"text-align: right;\">\n",
       "      <th></th>\n",
       "      <th>Unnamed: 0</th>\n",
       "      <th>YEAR</th>\n",
       "      <th>TRI_FACILITY_ID</th>\n",
       "      <th>FRS_ID</th>\n",
       "      <th>FACILITY_NAME</th>\n",
       "      <th>STREET_ADDRESS</th>\n",
       "      <th>CITY</th>\n",
       "      <th>COUNTY</th>\n",
       "      <th>ST</th>\n",
       "      <th>ZIP</th>\n",
       "      <th>...</th>\n",
       "      <th>8.6_TREATMENT_ON-SITE</th>\n",
       "      <th>8.7_TREATMENT_OFF-SITE</th>\n",
       "      <th>PROD._WASTE_(8.1_THRU_8.7)</th>\n",
       "      <th>8.8_ONE-TIME_RELEASE</th>\n",
       "      <th>PROD_RATIO_OR_ACTIVITY</th>\n",
       "      <th>8.9_PRODUCTION_RATIO</th>\n",
       "      <th>PARENT_COMPANY_NAME</th>\n",
       "      <th>PARENT_COMPANY_DB_NUMBER</th>\n",
       "      <th>SYS_STSITSSXSOLCHJPSAF7486K4RV</th>\n",
       "      <th>SYS_STSWGMX8O#197_NPUKVK#S5$QM</th>\n",
       "    </tr>\n",
       "  </thead>\n",
       "  <tbody>\n",
       "    <tr>\n",
       "      <th>0</th>\n",
       "      <td>1216</td>\n",
       "      <td>2007</td>\n",
       "      <td>59101XXNBL700EX</td>\n",
       "      <td>1.100000e+11</td>\n",
       "      <td>EXXONMOBIL BILLINGS REFINERY</td>\n",
       "      <td>700 EXXONMOBIL RD</td>\n",
       "      <td>BILLINGS</td>\n",
       "      <td>YELLOWSTONE</td>\n",
       "      <td>MT</td>\n",
       "      <td>59101</td>\n",
       "      <td>...</td>\n",
       "      <td>8300.00</td>\n",
       "      <td>17.00</td>\n",
       "      <td>12453.000</td>\n",
       "      <td>6.0</td>\n",
       "      <td>NaN</td>\n",
       "      <td>0.97</td>\n",
       "      <td>EXXON MOBIL CORP</td>\n",
       "      <td>1213214.0</td>\n",
       "      <td>1.376700e+19</td>\n",
       "      <td>7.389740e+17</td>\n",
       "    </tr>\n",
       "    <tr>\n",
       "      <th>1</th>\n",
       "      <td>2206</td>\n",
       "      <td>2007</td>\n",
       "      <td>77640TXCRFNORTH</td>\n",
       "      <td>1.100000e+11</td>\n",
       "      <td>MOTIVA-PORT ARTHUR REFINERY</td>\n",
       "      <td>2555 SAVANNAH AVE</td>\n",
       "      <td>PORT ARTHUR</td>\n",
       "      <td>JEFFERSON</td>\n",
       "      <td>TX</td>\n",
       "      <td>77640</td>\n",
       "      <td>...</td>\n",
       "      <td>131138.00</td>\n",
       "      <td>13.00</td>\n",
       "      <td>149075.000</td>\n",
       "      <td>NaN</td>\n",
       "      <td>NaN</td>\n",
       "      <td>0.98</td>\n",
       "      <td>MOTIVA ENTERPRISES LLC</td>\n",
       "      <td>NaN</td>\n",
       "      <td>4.277020e+18</td>\n",
       "      <td>2.841980e+18</td>\n",
       "    </tr>\n",
       "    <tr>\n",
       "      <th>2</th>\n",
       "      <td>2483</td>\n",
       "      <td>2007</td>\n",
       "      <td>08861CHVRN1200S</td>\n",
       "      <td>1.100590e+11</td>\n",
       "      <td>BUCKEYE PERTH AMBOY TERMINAL</td>\n",
       "      <td>380 MAURER ROAD</td>\n",
       "      <td>PERTH AMBOY</td>\n",
       "      <td>MIDDLESEX</td>\n",
       "      <td>NJ</td>\n",
       "      <td>8861</td>\n",
       "      <td>...</td>\n",
       "      <td>130.00</td>\n",
       "      <td>0.00</td>\n",
       "      <td>2933.000</td>\n",
       "      <td>2.0</td>\n",
       "      <td>NaN</td>\n",
       "      <td>0.73</td>\n",
       "      <td>BUCKEYE PARTNERS L.P.</td>\n",
       "      <td>112569892.0</td>\n",
       "      <td>1.434240e+18</td>\n",
       "      <td>1.566000e+19</td>\n",
       "    </tr>\n",
       "    <tr>\n",
       "      <th>3</th>\n",
       "      <td>2699</td>\n",
       "      <td>2007</td>\n",
       "      <td>79086DMNDSSTARR</td>\n",
       "      <td>1.100000e+11</td>\n",
       "      <td>DIAMOND SHAMROCK REFINING CO LP</td>\n",
       "      <td>6701 FM 119</td>\n",
       "      <td>SUNRAY</td>\n",
       "      <td>MOORE</td>\n",
       "      <td>TX</td>\n",
       "      <td>79086</td>\n",
       "      <td>...</td>\n",
       "      <td>0.00</td>\n",
       "      <td>777.00</td>\n",
       "      <td>35733.000</td>\n",
       "      <td>NaN</td>\n",
       "      <td>NaN</td>\n",
       "      <td>1.33</td>\n",
       "      <td>VALERO ENERGY CORP</td>\n",
       "      <td>82686916.0</td>\n",
       "      <td>4.277020e+18</td>\n",
       "      <td>2.361870e+18</td>\n",
       "    </tr>\n",
       "    <tr>\n",
       "      <th>4</th>\n",
       "      <td>3100</td>\n",
       "      <td>2007</td>\n",
       "      <td>90222DMNNK2000N</td>\n",
       "      <td>1.100000e+11</td>\n",
       "      <td>DEMENNOKERDOON DBA WORLD OIL RECYCLING</td>\n",
       "      <td>2000 NORTH ALAMEDA STREET</td>\n",
       "      <td>COMPTON</td>\n",
       "      <td>LOS ANGELES</td>\n",
       "      <td>CA</td>\n",
       "      <td>90222</td>\n",
       "      <td>...</td>\n",
       "      <td>2621.08</td>\n",
       "      <td>20.61</td>\n",
       "      <td>65130.907</td>\n",
       "      <td>NaN</td>\n",
       "      <td>NaN</td>\n",
       "      <td>0.91</td>\n",
       "      <td>WORLD OIL CORP</td>\n",
       "      <td>72937436.0</td>\n",
       "      <td>5.097020e+18</td>\n",
       "      <td>9.781570e+17</td>\n",
       "    </tr>\n",
       "  </tbody>\n",
       "</table>\n",
       "<p>5 rows × 112 columns</p>\n",
       "</div>"
      ],
      "text/plain": [
       "   Unnamed: 0  YEAR  TRI_FACILITY_ID        FRS_ID  \\\n",
       "0        1216  2007  59101XXNBL700EX  1.100000e+11   \n",
       "1        2206  2007  77640TXCRFNORTH  1.100000e+11   \n",
       "2        2483  2007  08861CHVRN1200S  1.100590e+11   \n",
       "3        2699  2007  79086DMNDSSTARR  1.100000e+11   \n",
       "4        3100  2007  90222DMNNK2000N  1.100000e+11   \n",
       "\n",
       "                            FACILITY_NAME             STREET_ADDRESS  \\\n",
       "0            EXXONMOBIL BILLINGS REFINERY          700 EXXONMOBIL RD   \n",
       "1             MOTIVA-PORT ARTHUR REFINERY          2555 SAVANNAH AVE   \n",
       "2            BUCKEYE PERTH AMBOY TERMINAL            380 MAURER ROAD   \n",
       "3         DIAMOND SHAMROCK REFINING CO LP                6701 FM 119   \n",
       "4  DEMENNOKERDOON DBA WORLD OIL RECYCLING  2000 NORTH ALAMEDA STREET   \n",
       "\n",
       "          CITY       COUNTY  ST    ZIP               ...                \\\n",
       "0     BILLINGS  YELLOWSTONE  MT  59101               ...                 \n",
       "1  PORT ARTHUR    JEFFERSON  TX  77640               ...                 \n",
       "2  PERTH AMBOY    MIDDLESEX  NJ   8861               ...                 \n",
       "3       SUNRAY        MOORE  TX  79086               ...                 \n",
       "4      COMPTON  LOS ANGELES  CA  90222               ...                 \n",
       "\n",
       "   8.6_TREATMENT_ON-SITE 8.7_TREATMENT_OFF-SITE  PROD._WASTE_(8.1_THRU_8.7)  \\\n",
       "0                8300.00                  17.00                   12453.000   \n",
       "1              131138.00                  13.00                  149075.000   \n",
       "2                 130.00                   0.00                    2933.000   \n",
       "3                   0.00                 777.00                   35733.000   \n",
       "4                2621.08                  20.61                   65130.907   \n",
       "\n",
       "   8.8_ONE-TIME_RELEASE PROD_RATIO_OR_ACTIVITY  8.9_PRODUCTION_RATIO  \\\n",
       "0                   6.0                    NaN                  0.97   \n",
       "1                   NaN                    NaN                  0.98   \n",
       "2                   2.0                    NaN                  0.73   \n",
       "3                   NaN                    NaN                  1.33   \n",
       "4                   NaN                    NaN                  0.91   \n",
       "\n",
       "      PARENT_COMPANY_NAME  PARENT_COMPANY_DB_NUMBER  \\\n",
       "0        EXXON MOBIL CORP                 1213214.0   \n",
       "1  MOTIVA ENTERPRISES LLC                       NaN   \n",
       "2   BUCKEYE PARTNERS L.P.               112569892.0   \n",
       "3      VALERO ENERGY CORP                82686916.0   \n",
       "4          WORLD OIL CORP                72937436.0   \n",
       "\n",
       "   SYS_STSITSSXSOLCHJPSAF7486K4RV  SYS_STSWGMX8O#197_NPUKVK#S5$QM  \n",
       "0                    1.376700e+19                    7.389740e+17  \n",
       "1                    4.277020e+18                    2.841980e+18  \n",
       "2                    1.434240e+18                    1.566000e+19  \n",
       "3                    4.277020e+18                    2.361870e+18  \n",
       "4                    5.097020e+18                    9.781570e+17  \n",
       "\n",
       "[5 rows x 112 columns]"
      ]
     },
     "execution_count": 43,
     "metadata": {},
     "output_type": "execute_result"
    }
   ],
   "source": [
    "Ben_10.head()"
   ]
  },
  {
   "cell_type": "markdown",
   "metadata": {},
   "source": [
    "### Now I would like to add fugitive emissions and stack emissions together to get total air emissions in a new column."
   ]
  },
  {
   "cell_type": "code",
   "execution_count": 44,
   "metadata": {
    "collapsed": true
   },
   "outputs": [],
   "source": [
    "Ben_10['total_air'] = Ben_10['5.1_FUGITIVE_AIR'] + Ben_10['5.2_STACK_AIR']  # assigned to a column"
   ]
  },
  {
   "cell_type": "code",
   "execution_count": 46,
   "metadata": {
    "collapsed": false
   },
   "outputs": [
    {
     "name": "stdout",
     "output_type": "stream",
     "text": [
      "<class 'pandas.core.frame.DataFrame'>\n",
      "Int64Index: 1605 entries, 0 to 166\n",
      "Columns: 113 entries, Unnamed: 0 to total_air\n",
      "dtypes: float64(85), int64(10), object(18)\n",
      "memory usage: 1.3+ MB\n"
     ]
    }
   ],
   "source": [
    "Ben_10.info()"
   ]
  },
  {
   "cell_type": "markdown",
   "metadata": {},
   "source": [
    "### Now there are 113 columns, so that's a good sign"
   ]
  },
  {
   "cell_type": "code",
   "execution_count": 55,
   "metadata": {
    "collapsed": false
   },
   "outputs": [
    {
     "data": {
      "text/plain": [
       "0     3970.0\n",
       "1    14710.0\n",
       "2     1897.0\n",
       "3     4346.0\n",
       "4       10.0\n",
       "Name: total_air, dtype: float64"
      ]
     },
     "execution_count": 55,
     "metadata": {},
     "output_type": "execute_result"
    }
   ],
   "source": [
    "Ben_10.total_air.head(5)"
   ]
  },
  {
   "cell_type": "code",
   "execution_count": 56,
   "metadata": {
    "collapsed": true
   },
   "outputs": [],
   "source": [
    "Ben_10.to_csv(\"C:/Users/Luckbug/Code/emissions/Ben_10.csv\")"
   ]
  },
  {
   "cell_type": "code",
   "execution_count": null,
   "metadata": {
    "collapsed": true
   },
   "outputs": [],
   "source": []
  }
 ],
 "metadata": {
  "kernelspec": {
   "display_name": "Python 2",
   "language": "python",
   "name": "python2"
  },
  "language_info": {
   "codemirror_mode": {
    "name": "ipython",
    "version": 2
   },
   "file_extension": ".py",
   "mimetype": "text/x-python",
   "name": "python",
   "nbconvert_exporter": "python",
   "pygments_lexer": "ipython2",
   "version": "2.7.11"
  }
 },
 "nbformat": 4,
 "nbformat_minor": 0
}
