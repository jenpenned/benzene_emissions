{
 "cells": [
  {
   "cell_type": "markdown",
   "metadata": {},
   "source": [
    "# Benzene emissions from the petroleum industry section from TRI 2007"
   ]
  },
  {
   "cell_type": "code",
   "execution_count": 4,
   "metadata": {
    "collapsed": false
   },
   "outputs": [],
   "source": [
    "import pandas as pd"
   ]
  },
  {
   "cell_type": "code",
   "execution_count": 5,
   "metadata": {
    "collapsed": false
   },
   "outputs": [
    {
     "name": "stderr",
     "output_type": "stream",
     "text": [
      "c:\\python27\\lib\\site-packages\\IPython\\core\\interactiveshell.py:2902: DtypeWarning: Columns (23,24,25,26,27,108) have mixed types. Specify dtype option on import or set low_memory=False.\n",
      "  interactivity=interactivity, compiler=compiler, result=result)\n"
     ]
    }
   ],
   "source": [
    "TRI_2007 = pd.read_csv(\"C:/Users/Luckbug/Code/emissions/TRI/TRI_2007_US.csv\")"
   ]
  },
  {
   "cell_type": "code",
   "execution_count": 6,
   "metadata": {
    "collapsed": false
   },
   "outputs": [
    {
     "data": {
      "text/html": [
       "<div>\n",
       "<table border=\"1\" class=\"dataframe\">\n",
       "  <thead>\n",
       "    <tr style=\"text-align: right;\">\n",
       "      <th></th>\n",
       "      <th>YEAR</th>\n",
       "      <th>TRI_FACILITY_ID</th>\n",
       "      <th>FRS_ID</th>\n",
       "      <th>FACILITY_NAME</th>\n",
       "      <th>STREET_ADDRESS</th>\n",
       "      <th>CITY</th>\n",
       "      <th>COUNTY</th>\n",
       "      <th>ST</th>\n",
       "      <th>ZIP</th>\n",
       "      <th>BIA_CODE</th>\n",
       "      <th>...</th>\n",
       "      <th>8.6_TREATMENT_ON-SITE</th>\n",
       "      <th>8.7_TREATMENT_OFF-SITE</th>\n",
       "      <th>PROD._WASTE_(8.1_THRU_8.7)</th>\n",
       "      <th>8.8_ONE-TIME_RELEASE</th>\n",
       "      <th>PROD_RATIO_OR_ACTIVITY</th>\n",
       "      <th>8.9_PRODUCTION_RATIO</th>\n",
       "      <th>PARENT_COMPANY_NAME</th>\n",
       "      <th>PARENT_COMPANY_DB_NUMBER</th>\n",
       "      <th>SYS_STSITSSXSOLCHJPSAF7486K4RV</th>\n",
       "      <th>SYS_STSWGMX8O#197_NPUKVK#S5$QM</th>\n",
       "    </tr>\n",
       "  </thead>\n",
       "  <tbody>\n",
       "    <tr>\n",
       "      <th>0</th>\n",
       "      <td>2007</td>\n",
       "      <td>35601MDMNFSTATE</td>\n",
       "      <td>1.100680e+11</td>\n",
       "      <td>MDA MANUFACTURING INC</td>\n",
       "      <td>905 STATE DOCKS RD</td>\n",
       "      <td>DECATUR</td>\n",
       "      <td>MORGAN</td>\n",
       "      <td>AL</td>\n",
       "      <td>35601</td>\n",
       "      <td>NaN</td>\n",
       "      <td>...</td>\n",
       "      <td>0.0</td>\n",
       "      <td>172899.0</td>\n",
       "      <td>174682.0</td>\n",
       "      <td>NaN</td>\n",
       "      <td>NaN</td>\n",
       "      <td>0.96</td>\n",
       "      <td>DAIKIN AMERICA INC</td>\n",
       "      <td>NaN</td>\n",
       "      <td>1.520070e+17</td>\n",
       "      <td>5.403920e+18</td>\n",
       "    </tr>\n",
       "    <tr>\n",
       "      <th>1</th>\n",
       "      <td>2007</td>\n",
       "      <td>32177SMNLGUSHWY</td>\n",
       "      <td>1.100410e+11</td>\n",
       "      <td>SEMINOLE GENERATING STATION</td>\n",
       "      <td>890 N US HWY 17</td>\n",
       "      <td>PALATKA</td>\n",
       "      <td>PUTNAM</td>\n",
       "      <td>FL</td>\n",
       "      <td>32177</td>\n",
       "      <td>NaN</td>\n",
       "      <td>...</td>\n",
       "      <td>0.0</td>\n",
       "      <td>0.0</td>\n",
       "      <td>257727.0</td>\n",
       "      <td>NaN</td>\n",
       "      <td>NaN</td>\n",
       "      <td>1.00</td>\n",
       "      <td>SEMINOLE ELECTRIC COOPERATIVE</td>\n",
       "      <td>78332657</td>\n",
       "      <td>7.962970e+18</td>\n",
       "      <td>6.000270e+17</td>\n",
       "    </tr>\n",
       "    <tr>\n",
       "      <th>2</th>\n",
       "      <td>2007</td>\n",
       "      <td>79912SMTXS65NDE</td>\n",
       "      <td>1.100050e+11</td>\n",
       "      <td>SUMITOMO ELECTRIC WIRING SYSTEMS INC</td>\n",
       "      <td>6500 N DESERT BLVD</td>\n",
       "      <td>EL PASO</td>\n",
       "      <td>EL PASO</td>\n",
       "      <td>TX</td>\n",
       "      <td>79912</td>\n",
       "      <td>NaN</td>\n",
       "      <td>...</td>\n",
       "      <td>0.0</td>\n",
       "      <td>0.0</td>\n",
       "      <td>2081541.0</td>\n",
       "      <td>NaN</td>\n",
       "      <td>NaN</td>\n",
       "      <td>11.00</td>\n",
       "      <td>SUMITOMO ELECTRIC WIRING SYSTEMS INC</td>\n",
       "      <td>175638741</td>\n",
       "      <td>4.277020e+18</td>\n",
       "      <td>4.144560e+17</td>\n",
       "    </tr>\n",
       "    <tr>\n",
       "      <th>3</th>\n",
       "      <td>2007</td>\n",
       "      <td>01082QBBNW10MAP</td>\n",
       "      <td>1.100000e+11</td>\n",
       "      <td>QUABBIN WIRE &amp; CABLE CO INC</td>\n",
       "      <td>10 MAPLE ST</td>\n",
       "      <td>WARE</td>\n",
       "      <td>HAMPSHIRE</td>\n",
       "      <td>MA</td>\n",
       "      <td>1082</td>\n",
       "      <td>NaN</td>\n",
       "      <td>...</td>\n",
       "      <td>0.0</td>\n",
       "      <td>0.0</td>\n",
       "      <td>3532.0</td>\n",
       "      <td>NaN</td>\n",
       "      <td>NaN</td>\n",
       "      <td>1.09</td>\n",
       "      <td>NaN</td>\n",
       "      <td>NaN</td>\n",
       "      <td>2.824910e+18</td>\n",
       "      <td>1.369740e+19</td>\n",
       "    </tr>\n",
       "    <tr>\n",
       "      <th>4</th>\n",
       "      <td>2007</td>\n",
       "      <td>80525DVNCD16PRS</td>\n",
       "      <td>1.100030e+11</td>\n",
       "      <td>ADVANCED ENERGY INDUSTRIES</td>\n",
       "      <td>1600 PROSPECT PKWY</td>\n",
       "      <td>FORT COLLINS</td>\n",
       "      <td>LARIMER</td>\n",
       "      <td>CO</td>\n",
       "      <td>80525</td>\n",
       "      <td>NaN</td>\n",
       "      <td>...</td>\n",
       "      <td>0.0</td>\n",
       "      <td>0.0</td>\n",
       "      <td>196.0</td>\n",
       "      <td>NaN</td>\n",
       "      <td>NaN</td>\n",
       "      <td>0.00</td>\n",
       "      <td>NaN</td>\n",
       "      <td>NaN</td>\n",
       "      <td>1.688210e+19</td>\n",
       "      <td>1.333120e+18</td>\n",
       "    </tr>\n",
       "  </tbody>\n",
       "</table>\n",
       "<p>5 rows × 111 columns</p>\n",
       "</div>"
      ],
      "text/plain": [
       "   YEAR  TRI_FACILITY_ID        FRS_ID                         FACILITY_NAME  \\\n",
       "0  2007  35601MDMNFSTATE  1.100680e+11                 MDA MANUFACTURING INC   \n",
       "1  2007  32177SMNLGUSHWY  1.100410e+11           SEMINOLE GENERATING STATION   \n",
       "2  2007  79912SMTXS65NDE  1.100050e+11  SUMITOMO ELECTRIC WIRING SYSTEMS INC   \n",
       "3  2007  01082QBBNW10MAP  1.100000e+11           QUABBIN WIRE & CABLE CO INC   \n",
       "4  2007  80525DVNCD16PRS  1.100030e+11            ADVANCED ENERGY INDUSTRIES   \n",
       "\n",
       "       STREET_ADDRESS          CITY     COUNTY  ST    ZIP  BIA_CODE  \\\n",
       "0  905 STATE DOCKS RD       DECATUR     MORGAN  AL  35601       NaN   \n",
       "1     890 N US HWY 17       PALATKA     PUTNAM  FL  32177       NaN   \n",
       "2  6500 N DESERT BLVD       EL PASO    EL PASO  TX  79912       NaN   \n",
       "3         10 MAPLE ST          WARE  HAMPSHIRE  MA   1082       NaN   \n",
       "4  1600 PROSPECT PKWY  FORT COLLINS    LARIMER  CO  80525       NaN   \n",
       "\n",
       "                ...               8.6_TREATMENT_ON-SITE  \\\n",
       "0               ...                                 0.0   \n",
       "1               ...                                 0.0   \n",
       "2               ...                                 0.0   \n",
       "3               ...                                 0.0   \n",
       "4               ...                                 0.0   \n",
       "\n",
       "   8.7_TREATMENT_OFF-SITE  PROD._WASTE_(8.1_THRU_8.7) 8.8_ONE-TIME_RELEASE  \\\n",
       "0                172899.0                    174682.0                  NaN   \n",
       "1                     0.0                    257727.0                  NaN   \n",
       "2                     0.0                   2081541.0                  NaN   \n",
       "3                     0.0                      3532.0                  NaN   \n",
       "4                     0.0                       196.0                  NaN   \n",
       "\n",
       "   PROD_RATIO_OR_ACTIVITY 8.9_PRODUCTION_RATIO  \\\n",
       "0                     NaN                 0.96   \n",
       "1                     NaN                 1.00   \n",
       "2                     NaN                11.00   \n",
       "3                     NaN                 1.09   \n",
       "4                     NaN                 0.00   \n",
       "\n",
       "                    PARENT_COMPANY_NAME  PARENT_COMPANY_DB_NUMBER  \\\n",
       "0                    DAIKIN AMERICA INC                       NaN   \n",
       "1         SEMINOLE ELECTRIC COOPERATIVE                  78332657   \n",
       "2  SUMITOMO ELECTRIC WIRING SYSTEMS INC                 175638741   \n",
       "3                                   NaN                       NaN   \n",
       "4                                   NaN                       NaN   \n",
       "\n",
       "   SYS_STSITSSXSOLCHJPSAF7486K4RV  SYS_STSWGMX8O#197_NPUKVK#S5$QM  \n",
       "0                    1.520070e+17                    5.403920e+18  \n",
       "1                    7.962970e+18                    6.000270e+17  \n",
       "2                    4.277020e+18                    4.144560e+17  \n",
       "3                    2.824910e+18                    1.369740e+19  \n",
       "4                    1.688210e+19                    1.333120e+18  \n",
       "\n",
       "[5 rows x 111 columns]"
      ]
     },
     "execution_count": 6,
     "metadata": {},
     "output_type": "execute_result"
    }
   ],
   "source": [
    "TRI_2007.head()"
   ]
  },
  {
   "cell_type": "code",
   "execution_count": 7,
   "metadata": {
    "collapsed": false,
    "scrolled": true
   },
   "outputs": [
    {
     "name": "stdout",
     "output_type": "stream",
     "text": [
      "<class 'pandas.core.frame.DataFrame'>\n",
      "RangeIndex: 45975 entries, 0 to 45974\n",
      "Columns: 111 entries, YEAR to SYS_STSWGMX8O#197_NPUKVK#S5$QM\n",
      "dtypes: float64(79), int64(8), object(24)\n",
      "memory usage: 34.7+ MB\n"
     ]
    }
   ],
   "source": [
    "TRI_2007.info()"
   ]
  },
  {
   "cell_type": "markdown",
   "metadata": {},
   "source": [
    "### Filter dataframe \"TRI_2007\" for petroleum sector emissions\n",
    "\n",
    "Then, create a new dataframe of only petroleum sector emissions called \"Petro_2007\""
   ]
  },
  {
   "cell_type": "code",
   "execution_count": 8,
   "metadata": {
    "collapsed": false,
    "scrolled": false
   },
   "outputs": [],
   "source": [
    "Petro_2007 = TRI_2007[TRI_2007.INDUSTRY_SECTOR == \"Petroleum\"]"
   ]
  },
  {
   "cell_type": "code",
   "execution_count": 9,
   "metadata": {
    "collapsed": false
   },
   "outputs": [
    {
     "name": "stdout",
     "output_type": "stream",
     "text": [
      "<class 'pandas.core.frame.DataFrame'>\n",
      "Int64Index: 2716 entries, 67 to 45968\n",
      "Columns: 111 entries, YEAR to SYS_STSWGMX8O#197_NPUKVK#S5$QM\n",
      "dtypes: float64(79), int64(8), object(24)\n",
      "memory usage: 2.1+ MB\n"
     ]
    }
   ],
   "source": [
    "Petro_2007.info()"
   ]
  },
  {
   "cell_type": "code",
   "execution_count": 10,
   "metadata": {
    "collapsed": false
   },
   "outputs": [],
   "source": [
    "Ben_Petro_2007 = Petro_2007[Petro_2007.CHEMICAL == \"BENZENE\"]"
   ]
  },
  {
   "cell_type": "code",
   "execution_count": 11,
   "metadata": {
    "collapsed": false
   },
   "outputs": [
    {
     "name": "stdout",
     "output_type": "stream",
     "text": [
      "<class 'pandas.core.frame.DataFrame'>\n",
      "Int64Index: 89 entries, 1216 to 45783\n",
      "Columns: 111 entries, YEAR to SYS_STSWGMX8O#197_NPUKVK#S5$QM\n",
      "dtypes: float64(79), int64(8), object(24)\n",
      "memory usage: 69.5+ KB\n"
     ]
    }
   ],
   "source": [
    "Ben_Petro_2007.info()"
   ]
  },
  {
   "cell_type": "markdown",
   "metadata": {},
   "source": [
    "Since emissions can be reported in pounds and grams in the column \"UNIT_OF_MEASURE,\" check whether benzene emissions are also reported in grams"
   ]
  },
  {
   "cell_type": "code",
   "execution_count": 12,
   "metadata": {
    "collapsed": false
   },
   "outputs": [
    {
     "data": {
      "text/html": [
       "<div>\n",
       "<table border=\"1\" class=\"dataframe\">\n",
       "  <thead>\n",
       "    <tr style=\"text-align: right;\">\n",
       "      <th></th>\n",
       "      <th>index</th>\n",
       "      <th>UNIT_OF_MEASURE</th>\n",
       "    </tr>\n",
       "  </thead>\n",
       "  <tbody>\n",
       "    <tr>\n",
       "      <th>0</th>\n",
       "      <td>Pounds</td>\n",
       "      <td>89</td>\n",
       "    </tr>\n",
       "  </tbody>\n",
       "</table>\n",
       "</div>"
      ],
      "text/plain": [
       "    index  UNIT_OF_MEASURE\n",
       "0  Pounds               89"
      ]
     },
     "execution_count": 12,
     "metadata": {},
     "output_type": "execute_result"
    }
   ],
   "source": [
    "Ben_Petro_2007.UNIT_OF_MEASURE.value_counts().reset_index()"
   ]
  },
  {
   "cell_type": "markdown",
   "metadata": {},
   "source": [
    "Good, no benzene emissions were reported in grams so I don't have different units to worry about."
   ]
  },
  {
   "cell_type": "code",
   "execution_count": 14,
   "metadata": {
    "collapsed": false
   },
   "outputs": [],
   "source": [
    "Ben_Petro_2007.to_csv(\"C:/Users/Luckbug/Code/emissions/Ben_Petro_2007.csv\")"
   ]
  },
  {
   "cell_type": "code",
   "execution_count": null,
   "metadata": {
    "collapsed": true
   },
   "outputs": [],
   "source": []
  }
 ],
 "metadata": {
  "kernelspec": {
   "display_name": "Python 2",
   "language": "python",
   "name": "python2"
  },
  "language_info": {
   "codemirror_mode": {
    "name": "ipython",
    "version": 2
   },
   "file_extension": ".py",
   "mimetype": "text/x-python",
   "name": "python",
   "nbconvert_exporter": "python",
   "pygments_lexer": "ipython2",
   "version": "2.7.11"
  }
 },
 "nbformat": 4,
 "nbformat_minor": 0
}
