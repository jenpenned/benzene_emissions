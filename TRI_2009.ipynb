{
 "cells": [
  {
   "cell_type": "markdown",
   "metadata": {},
   "source": [
    "# Benzene emissions from the petroleum industry section from TRI 2009"
   ]
  },
  {
   "cell_type": "code",
   "execution_count": 1,
   "metadata": {
    "collapsed": false
   },
   "outputs": [],
   "source": [
    "import pandas as pd"
   ]
  },
  {
   "cell_type": "code",
   "execution_count": 2,
   "metadata": {
    "collapsed": false
   },
   "outputs": [
    {
     "name": "stderr",
     "output_type": "stream",
     "text": [
      "c:\\python27\\lib\\site-packages\\IPython\\core\\interactiveshell.py:2902: DtypeWarning: Columns (23,24,25,26,108) have mixed types. Specify dtype option on import or set low_memory=False.\n",
      "  interactivity=interactivity, compiler=compiler, result=result)\n"
     ]
    }
   ],
   "source": [
    "TRI_2009 = pd.read_csv(\"C:/Users/Luckbug/Code/emissions/TRI/TRI_2009_US.csv\")"
   ]
  },
  {
   "cell_type": "code",
   "execution_count": 3,
   "metadata": {
    "collapsed": false
   },
   "outputs": [
    {
     "data": {
      "text/html": [
       "<div>\n",
       "<table border=\"1\" class=\"dataframe\">\n",
       "  <thead>\n",
       "    <tr style=\"text-align: right;\">\n",
       "      <th></th>\n",
       "      <th>YEAR</th>\n",
       "      <th>TRI_FACILITY_ID</th>\n",
       "      <th>FRS_ID</th>\n",
       "      <th>FACILITY_NAME</th>\n",
       "      <th>STREET_ADDRESS</th>\n",
       "      <th>CITY</th>\n",
       "      <th>COUNTY</th>\n",
       "      <th>ST</th>\n",
       "      <th>ZIP</th>\n",
       "      <th>BIA_CODE</th>\n",
       "      <th>...</th>\n",
       "      <th>8.6_TREATMENT_ON-SITE</th>\n",
       "      <th>8.7_TREATMENT_OFF-SITE</th>\n",
       "      <th>PROD._WASTE_(8.1_THRU_8.7)</th>\n",
       "      <th>8.8_ONE-TIME_RELEASE</th>\n",
       "      <th>PROD_RATIO_OR_ACTIVITY</th>\n",
       "      <th>8.9_PRODUCTION_RATIO</th>\n",
       "      <th>PARENT_COMPANY_NAME</th>\n",
       "      <th>PARENT_COMPANY_DB_NUMBER</th>\n",
       "      <th>SYS_STSITSSXSOLCHJPSAF7486K4RV</th>\n",
       "      <th>SYS_STSWGMX8O#197_NPUKVK#S5$QM</th>\n",
       "    </tr>\n",
       "  </thead>\n",
       "  <tbody>\n",
       "    <tr>\n",
       "      <th>0</th>\n",
       "      <td>2009</td>\n",
       "      <td>72902STHWS4900W</td>\n",
       "      <td>1.100000e+11</td>\n",
       "      <td>BALDOR ELECTRIC CO</td>\n",
       "      <td>600 RALEIGH</td>\n",
       "      <td>FORT SMITH</td>\n",
       "      <td>SEBASTIAN</td>\n",
       "      <td>AR</td>\n",
       "      <td>72901</td>\n",
       "      <td>NaN</td>\n",
       "      <td>...</td>\n",
       "      <td>0.0</td>\n",
       "      <td>0.00</td>\n",
       "      <td>259520.54</td>\n",
       "      <td>0.0</td>\n",
       "      <td>NaN</td>\n",
       "      <td>0.76</td>\n",
       "      <td>ABB INC</td>\n",
       "      <td>808229041</td>\n",
       "      <td>1.243980e+19</td>\n",
       "      <td>1.482140e+19</td>\n",
       "    </tr>\n",
       "    <tr>\n",
       "      <th>1</th>\n",
       "      <td>2009</td>\n",
       "      <td>86032CHLLPOLDUS</td>\n",
       "      <td>1.100170e+11</td>\n",
       "      <td>CHOLLA POWER PLANT</td>\n",
       "      <td>4801 FRONTAGE RD</td>\n",
       "      <td>JOSEPH CITY</td>\n",
       "      <td>NAVAJO</td>\n",
       "      <td>AZ</td>\n",
       "      <td>86032</td>\n",
       "      <td>NaN</td>\n",
       "      <td>...</td>\n",
       "      <td>0.0</td>\n",
       "      <td>0.00</td>\n",
       "      <td>410.60</td>\n",
       "      <td>NaN</td>\n",
       "      <td>NaN</td>\n",
       "      <td>0.98</td>\n",
       "      <td>PINNACLE WEST CAPITAL CORP</td>\n",
       "      <td>131155400</td>\n",
       "      <td>8.753170e+18</td>\n",
       "      <td>1.755010e+19</td>\n",
       "    </tr>\n",
       "    <tr>\n",
       "      <th>2</th>\n",
       "      <td>2009</td>\n",
       "      <td>77541THDWCBUILD</td>\n",
       "      <td>1.100080e+11</td>\n",
       "      <td>DOW CHEMICAL CO FREEPORT FACILITY</td>\n",
       "      <td>2301 N BRAZOSPORT BLVD</td>\n",
       "      <td>FREEPORT</td>\n",
       "      <td>BRAZORIA</td>\n",
       "      <td>TX</td>\n",
       "      <td>775413257</td>\n",
       "      <td>NaN</td>\n",
       "      <td>...</td>\n",
       "      <td>0.0</td>\n",
       "      <td>0.00</td>\n",
       "      <td>170143.00</td>\n",
       "      <td>0.0</td>\n",
       "      <td>NaN</td>\n",
       "      <td>1.00</td>\n",
       "      <td>THE DOW CHEMICAL CO</td>\n",
       "      <td>1381581</td>\n",
       "      <td>1.811710e+19</td>\n",
       "      <td>4.381540e+18</td>\n",
       "    </tr>\n",
       "    <tr>\n",
       "      <th>3</th>\n",
       "      <td>2009</td>\n",
       "      <td>16115NVRTR118PA</td>\n",
       "      <td>1.100000e+11</td>\n",
       "      <td>EVOQUA WATER TECNOLOGIES DARLINGTON FACILITY</td>\n",
       "      <td>118 PARK RD</td>\n",
       "      <td>DARLINGTON</td>\n",
       "      <td>BEAVER</td>\n",
       "      <td>PA</td>\n",
       "      <td>16115</td>\n",
       "      <td>NaN</td>\n",
       "      <td>...</td>\n",
       "      <td>19447.0</td>\n",
       "      <td>0.01</td>\n",
       "      <td>19541.71</td>\n",
       "      <td>0.0</td>\n",
       "      <td>NaN</td>\n",
       "      <td>1.11</td>\n",
       "      <td>EWT HOLDINGS III CORP</td>\n",
       "      <td>NaN</td>\n",
       "      <td>7.815840e+18</td>\n",
       "      <td>1.299430e+19</td>\n",
       "    </tr>\n",
       "    <tr>\n",
       "      <th>4</th>\n",
       "      <td>2009</td>\n",
       "      <td>55720PTLTCNORTH</td>\n",
       "      <td>1.100000e+11</td>\n",
       "      <td>SAPPI CLOQUET LLC</td>\n",
       "      <td>2201 AVE B</td>\n",
       "      <td>CLOQUET</td>\n",
       "      <td>CARLTON</td>\n",
       "      <td>MN</td>\n",
       "      <td>55720</td>\n",
       "      <td>NaN</td>\n",
       "      <td>...</td>\n",
       "      <td>5802621.0</td>\n",
       "      <td>7568954.00</td>\n",
       "      <td>14125015.00</td>\n",
       "      <td>291.0</td>\n",
       "      <td>NaN</td>\n",
       "      <td>1.05</td>\n",
       "      <td>SDW HOLDINGS CORP</td>\n",
       "      <td>879301059</td>\n",
       "      <td>3.337700e+18</td>\n",
       "      <td>1.644080e+19</td>\n",
       "    </tr>\n",
       "  </tbody>\n",
       "</table>\n",
       "<p>5 rows × 111 columns</p>\n",
       "</div>"
      ],
      "text/plain": [
       "   YEAR  TRI_FACILITY_ID        FRS_ID  \\\n",
       "0  2009  72902STHWS4900W  1.100000e+11   \n",
       "1  2009  86032CHLLPOLDUS  1.100170e+11   \n",
       "2  2009  77541THDWCBUILD  1.100080e+11   \n",
       "3  2009  16115NVRTR118PA  1.100000e+11   \n",
       "4  2009  55720PTLTCNORTH  1.100000e+11   \n",
       "\n",
       "                                  FACILITY_NAME          STREET_ADDRESS  \\\n",
       "0                            BALDOR ELECTRIC CO             600 RALEIGH   \n",
       "1                            CHOLLA POWER PLANT        4801 FRONTAGE RD   \n",
       "2             DOW CHEMICAL CO FREEPORT FACILITY  2301 N BRAZOSPORT BLVD   \n",
       "3  EVOQUA WATER TECNOLOGIES DARLINGTON FACILITY             118 PARK RD   \n",
       "4                             SAPPI CLOQUET LLC              2201 AVE B   \n",
       "\n",
       "          CITY     COUNTY  ST        ZIP  BIA_CODE  \\\n",
       "0   FORT SMITH  SEBASTIAN  AR      72901       NaN   \n",
       "1  JOSEPH CITY     NAVAJO  AZ      86032       NaN   \n",
       "2     FREEPORT   BRAZORIA  TX  775413257       NaN   \n",
       "3   DARLINGTON     BEAVER  PA      16115       NaN   \n",
       "4      CLOQUET    CARLTON  MN      55720       NaN   \n",
       "\n",
       "                ...               8.6_TREATMENT_ON-SITE  \\\n",
       "0               ...                                 0.0   \n",
       "1               ...                                 0.0   \n",
       "2               ...                                 0.0   \n",
       "3               ...                             19447.0   \n",
       "4               ...                           5802621.0   \n",
       "\n",
       "   8.7_TREATMENT_OFF-SITE  PROD._WASTE_(8.1_THRU_8.7) 8.8_ONE-TIME_RELEASE  \\\n",
       "0                    0.00                   259520.54                  0.0   \n",
       "1                    0.00                      410.60                  NaN   \n",
       "2                    0.00                   170143.00                  0.0   \n",
       "3                    0.01                    19541.71                  0.0   \n",
       "4              7568954.00                 14125015.00                291.0   \n",
       "\n",
       "   PROD_RATIO_OR_ACTIVITY 8.9_PRODUCTION_RATIO         PARENT_COMPANY_NAME  \\\n",
       "0                     NaN                 0.76                     ABB INC   \n",
       "1                     NaN                 0.98  PINNACLE WEST CAPITAL CORP   \n",
       "2                     NaN                 1.00         THE DOW CHEMICAL CO   \n",
       "3                     NaN                 1.11       EWT HOLDINGS III CORP   \n",
       "4                     NaN                 1.05           SDW HOLDINGS CORP   \n",
       "\n",
       "   PARENT_COMPANY_DB_NUMBER  SYS_STSITSSXSOLCHJPSAF7486K4RV  \\\n",
       "0                 808229041                    1.243980e+19   \n",
       "1                 131155400                    8.753170e+18   \n",
       "2                   1381581                    1.811710e+19   \n",
       "3                       NaN                    7.815840e+18   \n",
       "4                 879301059                    3.337700e+18   \n",
       "\n",
       "   SYS_STSWGMX8O#197_NPUKVK#S5$QM  \n",
       "0                    1.482140e+19  \n",
       "1                    1.755010e+19  \n",
       "2                    4.381540e+18  \n",
       "3                    1.299430e+19  \n",
       "4                    1.644080e+19  \n",
       "\n",
       "[5 rows x 111 columns]"
      ]
     },
     "execution_count": 3,
     "metadata": {},
     "output_type": "execute_result"
    }
   ],
   "source": [
    "TRI_2009.head()"
   ]
  },
  {
   "cell_type": "code",
   "execution_count": 4,
   "metadata": {
    "collapsed": false,
    "scrolled": true
   },
   "outputs": [
    {
     "name": "stdout",
     "output_type": "stream",
     "text": [
      "<class 'pandas.core.frame.DataFrame'>\n",
      "RangeIndex: 81596 entries, 0 to 81595\n",
      "Columns: 111 entries, YEAR to SYS_STSWGMX8O#197_NPUKVK#S5$QM\n",
      "dtypes: float64(75), int64(13), object(23)\n",
      "memory usage: 61.9+ MB\n"
     ]
    }
   ],
   "source": [
    "TRI_2009.info()"
   ]
  },
  {
   "cell_type": "markdown",
   "metadata": {},
   "source": [
    "### Filter dataframe \"TRI_2009\" for petroleum sector emissions\n",
    "\n",
    "Then, create a new dataframe of only petroleum sector emissions called \"Petro_2007\""
   ]
  },
  {
   "cell_type": "code",
   "execution_count": 5,
   "metadata": {
    "collapsed": false,
    "scrolled": false
   },
   "outputs": [],
   "source": [
    "Petro_2009 = TRI_2009[TRI_2009.INDUSTRY_SECTOR == \"Petroleum\"]"
   ]
  },
  {
   "cell_type": "code",
   "execution_count": 6,
   "metadata": {
    "collapsed": false
   },
   "outputs": [
    {
     "name": "stdout",
     "output_type": "stream",
     "text": [
      "<class 'pandas.core.frame.DataFrame'>\n",
      "Int64Index: 5241 entries, 21 to 81580\n",
      "Columns: 111 entries, YEAR to SYS_STSWGMX8O#197_NPUKVK#S5$QM\n",
      "dtypes: float64(75), int64(13), object(23)\n",
      "memory usage: 4.0+ MB\n"
     ]
    }
   ],
   "source": [
    "Petro_2009.info()"
   ]
  },
  {
   "cell_type": "code",
   "execution_count": 7,
   "metadata": {
    "collapsed": false
   },
   "outputs": [],
   "source": [
    "Ben_Petro_2009 = Petro_2009[Petro_2009.CHEMICAL == \"BENZENE\"]"
   ]
  },
  {
   "cell_type": "code",
   "execution_count": 8,
   "metadata": {
    "collapsed": false
   },
   "outputs": [
    {
     "name": "stdout",
     "output_type": "stream",
     "text": [
      "<class 'pandas.core.frame.DataFrame'>\n",
      "Int64Index: 172 entries, 1883 to 81415\n",
      "Columns: 111 entries, YEAR to SYS_STSWGMX8O#197_NPUKVK#S5$QM\n",
      "dtypes: float64(75), int64(13), object(23)\n",
      "memory usage: 135.0+ KB\n"
     ]
    }
   ],
   "source": [
    "Ben_Petro_2009.info()"
   ]
  },
  {
   "cell_type": "markdown",
   "metadata": {},
   "source": [
    "Since emissions can be reported in pounds and grams in the column \"UNIT_OF_MEASURE,\" check whether benzene emissions are also reported in grams"
   ]
  },
  {
   "cell_type": "code",
   "execution_count": 9,
   "metadata": {
    "collapsed": false
   },
   "outputs": [
    {
     "data": {
      "text/html": [
       "<div>\n",
       "<table border=\"1\" class=\"dataframe\">\n",
       "  <thead>\n",
       "    <tr style=\"text-align: right;\">\n",
       "      <th></th>\n",
       "      <th>index</th>\n",
       "      <th>UNIT_OF_MEASURE</th>\n",
       "    </tr>\n",
       "  </thead>\n",
       "  <tbody>\n",
       "    <tr>\n",
       "      <th>0</th>\n",
       "      <td>Pounds</td>\n",
       "      <td>172</td>\n",
       "    </tr>\n",
       "  </tbody>\n",
       "</table>\n",
       "</div>"
      ],
      "text/plain": [
       "    index  UNIT_OF_MEASURE\n",
       "0  Pounds              172"
      ]
     },
     "execution_count": 9,
     "metadata": {},
     "output_type": "execute_result"
    }
   ],
   "source": [
    "Ben_Petro_2009.UNIT_OF_MEASURE.value_counts().reset_index()"
   ]
  },
  {
   "cell_type": "markdown",
   "metadata": {},
   "source": [
    "Good, no benzene emissions were reported in grams so I don't have different units to worry about."
   ]
  },
  {
   "cell_type": "code",
   "execution_count": 10,
   "metadata": {
    "collapsed": true
   },
   "outputs": [],
   "source": [
    "Ben_Petro_2009.to_csv(\"C:/Users/Luckbug/Code/emissions/Ben_Petro_2009.csv\")"
   ]
  },
  {
   "cell_type": "code",
   "execution_count": null,
   "metadata": {
    "collapsed": true
   },
   "outputs": [],
   "source": []
  }
 ],
 "metadata": {
  "kernelspec": {
   "display_name": "Python 2",
   "language": "python",
   "name": "python2"
  },
  "language_info": {
   "codemirror_mode": {
    "name": "ipython",
    "version": 2
   },
   "file_extension": ".py",
   "mimetype": "text/x-python",
   "name": "python",
   "nbconvert_exporter": "python",
   "pygments_lexer": "ipython2",
   "version": "2.7.11"
  }
 },
 "nbformat": 4,
 "nbformat_minor": 0
}
