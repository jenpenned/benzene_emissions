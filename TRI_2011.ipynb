{
 "cells": [
  {
   "cell_type": "markdown",
   "metadata": {},
   "source": [
    "# Benzene emissions from the petroleum industry section from TRI 2011"
   ]
  },
  {
   "cell_type": "code",
   "execution_count": 10,
   "metadata": {
    "collapsed": false
   },
   "outputs": [],
   "source": [
    "import pandas as pd"
   ]
  },
  {
   "cell_type": "code",
   "execution_count": 11,
   "metadata": {
    "collapsed": false
   },
   "outputs": [],
   "source": [
    "TRI_2011 = pd.read_csv(\"C:/Users/Luckbug/Code/emissions/TRI/TRI_2011_US.csv\")"
   ]
  },
  {
   "cell_type": "code",
   "execution_count": 12,
   "metadata": {
    "collapsed": false
   },
   "outputs": [
    {
     "data": {
      "text/html": [
       "<div>\n",
       "<table border=\"1\" class=\"dataframe\">\n",
       "  <thead>\n",
       "    <tr style=\"text-align: right;\">\n",
       "      <th></th>\n",
       "      <th>YEAR</th>\n",
       "      <th>TRI_FACILITY_ID</th>\n",
       "      <th>FRS_ID</th>\n",
       "      <th>FACILITY_NAME</th>\n",
       "      <th>STREET_ADDRESS</th>\n",
       "      <th>CITY</th>\n",
       "      <th>COUNTY</th>\n",
       "      <th>ST</th>\n",
       "      <th>ZIP</th>\n",
       "      <th>BIA_CODE</th>\n",
       "      <th>...</th>\n",
       "      <th>8.6_TREATMENT_ON-SITE</th>\n",
       "      <th>8.7_TREATMENT_OFF-SITE</th>\n",
       "      <th>PROD._WASTE_(8.1_THRU_8.7)</th>\n",
       "      <th>8.8_ONE-TIME_RELEASE</th>\n",
       "      <th>PROD_RATIO_OR_ACTIVITY</th>\n",
       "      <th>8.9_PRODUCTION_RATIO</th>\n",
       "      <th>PARENT_COMPANY_NAME</th>\n",
       "      <th>PARENT_COMPANY_DB_NUMBER</th>\n",
       "      <th>SYS_STSITSSXSOLCHJPSAF7486K4RV</th>\n",
       "      <th>SYS_STSWGMX8O#197_NPUKVK#S5$QM</th>\n",
       "    </tr>\n",
       "  </thead>\n",
       "  <tbody>\n",
       "    <tr>\n",
       "      <th>0</th>\n",
       "      <td>2011</td>\n",
       "      <td>53403WSCNS931CA</td>\n",
       "      <td>1.100010e+11</td>\n",
       "      <td>WISCONSIN PLATING WORKS-WISCONSIN PLATING DIV</td>\n",
       "      <td>931 CARROLL ST</td>\n",
       "      <td>RACINE</td>\n",
       "      <td>RACINE</td>\n",
       "      <td>WI</td>\n",
       "      <td>53403</td>\n",
       "      <td>NaN</td>\n",
       "      <td>...</td>\n",
       "      <td>0.0</td>\n",
       "      <td>0.0</td>\n",
       "      <td>1291.00</td>\n",
       "      <td>NaN</td>\n",
       "      <td>NaN</td>\n",
       "      <td>0.83</td>\n",
       "      <td>WISCONSIN PLATING WORKS OF RACINE INC.</td>\n",
       "      <td>NaN</td>\n",
       "      <td>1.067400e+19</td>\n",
       "      <td>6.667210e+18</td>\n",
       "    </tr>\n",
       "    <tr>\n",
       "      <th>1</th>\n",
       "      <td>2011</td>\n",
       "      <td>04210STRLNPIONI</td>\n",
       "      <td>1.100000e+11</td>\n",
       "      <td>PIONEER PLASTICS CORP</td>\n",
       "      <td>1 PIONITE RD</td>\n",
       "      <td>AUBURN</td>\n",
       "      <td>ANDROSCOGGIN</td>\n",
       "      <td>ME</td>\n",
       "      <td>4210</td>\n",
       "      <td>NaN</td>\n",
       "      <td>...</td>\n",
       "      <td>0.0</td>\n",
       "      <td>0.0</td>\n",
       "      <td>4997.00</td>\n",
       "      <td>NaN</td>\n",
       "      <td>NaN</td>\n",
       "      <td>1.00</td>\n",
       "      <td>PANOLAM INDUSTRIES INTERNATIONAL INC</td>\n",
       "      <td>947324158</td>\n",
       "      <td>1.266620e+19</td>\n",
       "      <td>1.372780e+19</td>\n",
       "    </tr>\n",
       "    <tr>\n",
       "      <th>2</th>\n",
       "      <td>2011</td>\n",
       "      <td>6143WBGRVR11SE2</td>\n",
       "      <td>1.100380e+11</td>\n",
       "      <td>BIG RIVER RESOURCES GALVA LLC</td>\n",
       "      <td>1100 SE 2ND STREET</td>\n",
       "      <td>GALVA</td>\n",
       "      <td>HENRY</td>\n",
       "      <td>IL</td>\n",
       "      <td>61434</td>\n",
       "      <td>NaN</td>\n",
       "      <td>...</td>\n",
       "      <td>0.0</td>\n",
       "      <td>0.0</td>\n",
       "      <td>5944.03</td>\n",
       "      <td>NaN</td>\n",
       "      <td>NaN</td>\n",
       "      <td>0.25</td>\n",
       "      <td>BIG RIVER RESOURCES LLC</td>\n",
       "      <td>809163152</td>\n",
       "      <td>5.774840e+18</td>\n",
       "      <td>7.367180e+17</td>\n",
       "    </tr>\n",
       "    <tr>\n",
       "      <th>3</th>\n",
       "      <td>2011</td>\n",
       "      <td>43211HNNCH1313W</td>\n",
       "      <td>1.100000e+11</td>\n",
       "      <td>AKZO NOBEL COATINGS INC</td>\n",
       "      <td>1313 WINDSOR AVE</td>\n",
       "      <td>COLUMBUS</td>\n",
       "      <td>FRANKLIN</td>\n",
       "      <td>OH</td>\n",
       "      <td>43211</td>\n",
       "      <td>NaN</td>\n",
       "      <td>...</td>\n",
       "      <td>0.0</td>\n",
       "      <td>0.0</td>\n",
       "      <td>726.00</td>\n",
       "      <td>NaN</td>\n",
       "      <td>NaN</td>\n",
       "      <td>1.23</td>\n",
       "      <td>AKZO NOBEL NV</td>\n",
       "      <td>21973748</td>\n",
       "      <td>7.932240e+18</td>\n",
       "      <td>6.993970e+18</td>\n",
       "    </tr>\n",
       "    <tr>\n",
       "      <th>4</th>\n",
       "      <td>2011</td>\n",
       "      <td>39180NTRNTPOBOX</td>\n",
       "      <td>1.100010e+11</td>\n",
       "      <td>INTERNATIONAL PAPER-VICKSBURG MILL</td>\n",
       "      <td>3737 HWY 3 N</td>\n",
       "      <td>REDWOOD</td>\n",
       "      <td>WARREN</td>\n",
       "      <td>MS</td>\n",
       "      <td>39156</td>\n",
       "      <td>NaN</td>\n",
       "      <td>...</td>\n",
       "      <td>0.0</td>\n",
       "      <td>0.0</td>\n",
       "      <td>75489.00</td>\n",
       "      <td>NaN</td>\n",
       "      <td>NaN</td>\n",
       "      <td>0.89</td>\n",
       "      <td>INTERNATIONAL PAPER CO</td>\n",
       "      <td>1316561</td>\n",
       "      <td>1.014610e+19</td>\n",
       "      <td>4.715690e+18</td>\n",
       "    </tr>\n",
       "  </tbody>\n",
       "</table>\n",
       "<p>5 rows × 111 columns</p>\n",
       "</div>"
      ],
      "text/plain": [
       "   YEAR  TRI_FACILITY_ID        FRS_ID  \\\n",
       "0  2011  53403WSCNS931CA  1.100010e+11   \n",
       "1  2011  04210STRLNPIONI  1.100000e+11   \n",
       "2  2011  6143WBGRVR11SE2  1.100380e+11   \n",
       "3  2011  43211HNNCH1313W  1.100000e+11   \n",
       "4  2011  39180NTRNTPOBOX  1.100010e+11   \n",
       "\n",
       "                                   FACILITY_NAME      STREET_ADDRESS  \\\n",
       "0  WISCONSIN PLATING WORKS-WISCONSIN PLATING DIV      931 CARROLL ST   \n",
       "1                          PIONEER PLASTICS CORP        1 PIONITE RD   \n",
       "2                  BIG RIVER RESOURCES GALVA LLC  1100 SE 2ND STREET   \n",
       "3                        AKZO NOBEL COATINGS INC    1313 WINDSOR AVE   \n",
       "4             INTERNATIONAL PAPER-VICKSBURG MILL        3737 HWY 3 N   \n",
       "\n",
       "       CITY        COUNTY  ST    ZIP  BIA_CODE  \\\n",
       "0    RACINE        RACINE  WI  53403       NaN   \n",
       "1    AUBURN  ANDROSCOGGIN  ME   4210       NaN   \n",
       "2     GALVA         HENRY  IL  61434       NaN   \n",
       "3  COLUMBUS      FRANKLIN  OH  43211       NaN   \n",
       "4   REDWOOD        WARREN  MS  39156       NaN   \n",
       "\n",
       "                ...               8.6_TREATMENT_ON-SITE  \\\n",
       "0               ...                                 0.0   \n",
       "1               ...                                 0.0   \n",
       "2               ...                                 0.0   \n",
       "3               ...                                 0.0   \n",
       "4               ...                                 0.0   \n",
       "\n",
       "   8.7_TREATMENT_OFF-SITE  PROD._WASTE_(8.1_THRU_8.7) 8.8_ONE-TIME_RELEASE  \\\n",
       "0                     0.0                     1291.00                  NaN   \n",
       "1                     0.0                     4997.00                  NaN   \n",
       "2                     0.0                     5944.03                  NaN   \n",
       "3                     0.0                      726.00                  NaN   \n",
       "4                     0.0                    75489.00                  NaN   \n",
       "\n",
       "   PROD_RATIO_OR_ACTIVITY 8.9_PRODUCTION_RATIO  \\\n",
       "0                     NaN                 0.83   \n",
       "1                     NaN                 1.00   \n",
       "2                     NaN                 0.25   \n",
       "3                     NaN                 1.23   \n",
       "4                     NaN                 0.89   \n",
       "\n",
       "                      PARENT_COMPANY_NAME  PARENT_COMPANY_DB_NUMBER  \\\n",
       "0  WISCONSIN PLATING WORKS OF RACINE INC.                       NaN   \n",
       "1    PANOLAM INDUSTRIES INTERNATIONAL INC                 947324158   \n",
       "2                 BIG RIVER RESOURCES LLC                 809163152   \n",
       "3                           AKZO NOBEL NV                  21973748   \n",
       "4                  INTERNATIONAL PAPER CO                   1316561   \n",
       "\n",
       "   SYS_STSITSSXSOLCHJPSAF7486K4RV  SYS_STSWGMX8O#197_NPUKVK#S5$QM  \n",
       "0                    1.067400e+19                    6.667210e+18  \n",
       "1                    1.266620e+19                    1.372780e+19  \n",
       "2                    5.774840e+18                    7.367180e+17  \n",
       "3                    7.932240e+18                    6.993970e+18  \n",
       "4                    1.014610e+19                    4.715690e+18  \n",
       "\n",
       "[5 rows x 111 columns]"
      ]
     },
     "execution_count": 12,
     "metadata": {},
     "output_type": "execute_result"
    }
   ],
   "source": [
    "TRI_2011.head()"
   ]
  },
  {
   "cell_type": "code",
   "execution_count": 13,
   "metadata": {
    "collapsed": false,
    "scrolled": true
   },
   "outputs": [
    {
     "name": "stdout",
     "output_type": "stream",
     "text": [
      "<class 'pandas.core.frame.DataFrame'>\n",
      "RangeIndex: 82399 entries, 0 to 82398\n",
      "Columns: 111 entries, YEAR to SYS_STSWGMX8O#197_NPUKVK#S5$QM\n",
      "dtypes: float64(76), int64(12), object(23)\n",
      "memory usage: 62.6+ MB\n"
     ]
    }
   ],
   "source": [
    "TRI_2011.info()"
   ]
  },
  {
   "cell_type": "markdown",
   "metadata": {},
   "source": [
    "### Filter dataframe \"TRI_2011\" for petroleum sector emissions\n",
    "\n",
    "Then, create a new dataframe of only petroleum sector emissions called \"Petro_2011\""
   ]
  },
  {
   "cell_type": "code",
   "execution_count": 14,
   "metadata": {
    "collapsed": false,
    "scrolled": false
   },
   "outputs": [],
   "source": [
    "Petro_2011 = TRI_2011[TRI_2011.INDUSTRY_SECTOR == \"Petroleum\"]"
   ]
  },
  {
   "cell_type": "code",
   "execution_count": 15,
   "metadata": {
    "collapsed": false
   },
   "outputs": [
    {
     "name": "stdout",
     "output_type": "stream",
     "text": [
      "<class 'pandas.core.frame.DataFrame'>\n",
      "Int64Index: 5234 entries, 7 to 82396\n",
      "Columns: 111 entries, YEAR to SYS_STSWGMX8O#197_NPUKVK#S5$QM\n",
      "dtypes: float64(76), int64(12), object(23)\n",
      "memory usage: 4.0+ MB\n"
     ]
    }
   ],
   "source": [
    "Petro_2011.info()"
   ]
  },
  {
   "cell_type": "code",
   "execution_count": 16,
   "metadata": {
    "collapsed": false
   },
   "outputs": [],
   "source": [
    "Ben_Petro_2011 = Petro_2011[Petro_2011.CHEMICAL == \"BENZENE\"]"
   ]
  },
  {
   "cell_type": "code",
   "execution_count": 17,
   "metadata": {
    "collapsed": false
   },
   "outputs": [
    {
     "name": "stdout",
     "output_type": "stream",
     "text": [
      "<class 'pandas.core.frame.DataFrame'>\n",
      "Int64Index: 165 entries, 636 to 82026\n",
      "Columns: 111 entries, YEAR to SYS_STSWGMX8O#197_NPUKVK#S5$QM\n",
      "dtypes: float64(76), int64(12), object(23)\n",
      "memory usage: 129.6+ KB\n"
     ]
    }
   ],
   "source": [
    "Ben_Petro_2011.info()"
   ]
  },
  {
   "cell_type": "markdown",
   "metadata": {},
   "source": [
    "Since emissions can be reported in pounds and grams in the column \"UNIT_OF_MEASURE,\" check whether benzene emissions are also reported in grams"
   ]
  },
  {
   "cell_type": "code",
   "execution_count": 18,
   "metadata": {
    "collapsed": false
   },
   "outputs": [
    {
     "data": {
      "text/html": [
       "<div>\n",
       "<table border=\"1\" class=\"dataframe\">\n",
       "  <thead>\n",
       "    <tr style=\"text-align: right;\">\n",
       "      <th></th>\n",
       "      <th>index</th>\n",
       "      <th>UNIT_OF_MEASURE</th>\n",
       "    </tr>\n",
       "  </thead>\n",
       "  <tbody>\n",
       "    <tr>\n",
       "      <th>0</th>\n",
       "      <td>Pounds</td>\n",
       "      <td>165</td>\n",
       "    </tr>\n",
       "  </tbody>\n",
       "</table>\n",
       "</div>"
      ],
      "text/plain": [
       "    index  UNIT_OF_MEASURE\n",
       "0  Pounds              165"
      ]
     },
     "execution_count": 18,
     "metadata": {},
     "output_type": "execute_result"
    }
   ],
   "source": [
    "Ben_Petro_2011.UNIT_OF_MEASURE.value_counts().reset_index()"
   ]
  },
  {
   "cell_type": "markdown",
   "metadata": {},
   "source": [
    "Good, no benzene emissions were reported in grams so I don't have different units to worry about."
   ]
  },
  {
   "cell_type": "code",
   "execution_count": 19,
   "metadata": {
    "collapsed": true
   },
   "outputs": [],
   "source": [
    "Ben_Petro_2011.to_csv(\"C:/Users/Luckbug/Code/emissions/Ben_Petro_2011.csv\")"
   ]
  }
 ],
 "metadata": {
  "kernelspec": {
   "display_name": "Python 2",
   "language": "python",
   "name": "python2"
  },
  "language_info": {
   "codemirror_mode": {
    "name": "ipython",
    "version": 2
   },
   "file_extension": ".py",
   "mimetype": "text/x-python",
   "name": "python",
   "nbconvert_exporter": "python",
   "pygments_lexer": "ipython2",
   "version": "2.7.11"
  }
 },
 "nbformat": 4,
 "nbformat_minor": 0
}
