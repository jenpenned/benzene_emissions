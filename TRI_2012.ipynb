{
 "cells": [
  {
   "cell_type": "markdown",
   "metadata": {},
   "source": [
    "# Benzene emissions from the petroleum industry section from TRI 2012"
   ]
  },
  {
   "cell_type": "code",
   "execution_count": 10,
   "metadata": {
    "collapsed": false
   },
   "outputs": [],
   "source": [
    "import pandas as pd"
   ]
  },
  {
   "cell_type": "code",
   "execution_count": 11,
   "metadata": {
    "collapsed": false
   },
   "outputs": [],
   "source": [
    "TRI_2012 = pd.read_csv(\"C:/Users/Luckbug/Code/emissions/TRI/TRI_2012_US.csv\")"
   ]
  },
  {
   "cell_type": "code",
   "execution_count": 12,
   "metadata": {
    "collapsed": false
   },
   "outputs": [
    {
     "data": {
      "text/html": [
       "<div>\n",
       "<table border=\"1\" class=\"dataframe\">\n",
       "  <thead>\n",
       "    <tr style=\"text-align: right;\">\n",
       "      <th></th>\n",
       "      <th>YEAR</th>\n",
       "      <th>TRI_FACILITY_ID</th>\n",
       "      <th>FRS_ID</th>\n",
       "      <th>FACILITY_NAME</th>\n",
       "      <th>STREET_ADDRESS</th>\n",
       "      <th>CITY</th>\n",
       "      <th>COUNTY</th>\n",
       "      <th>ST</th>\n",
       "      <th>ZIP</th>\n",
       "      <th>BIA_CODE</th>\n",
       "      <th>...</th>\n",
       "      <th>8.6_TREATMENT_ON-SITE</th>\n",
       "      <th>8.7_TREATMENT_OFF-SITE</th>\n",
       "      <th>PROD._WASTE_(8.1_THRU_8.7)</th>\n",
       "      <th>8.8_ONE-TIME_RELEASE</th>\n",
       "      <th>PROD_RATIO_OR_ACTIVITY</th>\n",
       "      <th>8.9_PRODUCTION_RATIO</th>\n",
       "      <th>PARENT_COMPANY_NAME</th>\n",
       "      <th>PARENT_COMPANY_DB_NUMBER</th>\n",
       "      <th>SYS_STSITSSXSOLCHJPSAF7486K4RV</th>\n",
       "      <th>SYS_STSWGMX8O#197_NPUKVK#S5$QM</th>\n",
       "    </tr>\n",
       "  </thead>\n",
       "  <tbody>\n",
       "    <tr>\n",
       "      <th>0</th>\n",
       "      <td>2012</td>\n",
       "      <td>55164KCHRFPOBOX</td>\n",
       "      <td>1.100000e+11</td>\n",
       "      <td>FLINT HILLS RESOURCES PINE BEND LLC</td>\n",
       "      <td>13775 CLARK RD</td>\n",
       "      <td>ROSEMOUNT</td>\n",
       "      <td>DAKOTA</td>\n",
       "      <td>MN</td>\n",
       "      <td>55068</td>\n",
       "      <td>NaN</td>\n",
       "      <td>...</td>\n",
       "      <td>40000.0</td>\n",
       "      <td>1793.0</td>\n",
       "      <td>63116.80</td>\n",
       "      <td>NaN</td>\n",
       "      <td>NaN</td>\n",
       "      <td>1.01</td>\n",
       "      <td>KOCH INDUSTRIES INC</td>\n",
       "      <td>6944334</td>\n",
       "      <td>1.381080e+19</td>\n",
       "      <td>9.828720e+18</td>\n",
       "    </tr>\n",
       "    <tr>\n",
       "      <th>1</th>\n",
       "      <td>2012</td>\n",
       "      <td>3150WGRGBM339IN</td>\n",
       "      <td>1.100620e+11</td>\n",
       "      <td>GEORGIA BIOMASS LLC WAYCROSS FACILITY</td>\n",
       "      <td>3390 IND US TRIAL BLVD</td>\n",
       "      <td>WAYCROSS</td>\n",
       "      <td>WARE</td>\n",
       "      <td>GA</td>\n",
       "      <td>31503</td>\n",
       "      <td>NaN</td>\n",
       "      <td>...</td>\n",
       "      <td>0.0</td>\n",
       "      <td>0.0</td>\n",
       "      <td>95.23</td>\n",
       "      <td>NaN</td>\n",
       "      <td>NaN</td>\n",
       "      <td>1.13</td>\n",
       "      <td>GEORGIA BIOMASS LLC</td>\n",
       "      <td>832589498</td>\n",
       "      <td>8.310690e+18</td>\n",
       "      <td>1.075590e+19</td>\n",
       "    </tr>\n",
       "    <tr>\n",
       "      <th>2</th>\n",
       "      <td>2012</td>\n",
       "      <td>44102TCHNC3500R</td>\n",
       "      <td>1.100010e+11</td>\n",
       "      <td>TECHNICAL PRODUCTS INC</td>\n",
       "      <td>3500 RIDGE RD</td>\n",
       "      <td>CLEVELAND</td>\n",
       "      <td>CUYAHOGA</td>\n",
       "      <td>OH</td>\n",
       "      <td>44102</td>\n",
       "      <td>NaN</td>\n",
       "      <td>...</td>\n",
       "      <td>0.0</td>\n",
       "      <td>0.0</td>\n",
       "      <td>0.00</td>\n",
       "      <td>0.0</td>\n",
       "      <td>NaN</td>\n",
       "      <td>0.00</td>\n",
       "      <td>NaN</td>\n",
       "      <td>NaN</td>\n",
       "      <td>1.771490e+19</td>\n",
       "      <td>7.915490e+18</td>\n",
       "    </tr>\n",
       "    <tr>\n",
       "      <th>3</th>\n",
       "      <td>2012</td>\n",
       "      <td>60501CRNPR6400A</td>\n",
       "      <td>1.100170e+11</td>\n",
       "      <td>INGREDION INC ARGO PLANT</td>\n",
       "      <td>6400 S ARCHER AVE</td>\n",
       "      <td>BEDFORD PARK</td>\n",
       "      <td>COOK</td>\n",
       "      <td>IL</td>\n",
       "      <td>60501</td>\n",
       "      <td>NaN</td>\n",
       "      <td>...</td>\n",
       "      <td>0.0</td>\n",
       "      <td>540000.0</td>\n",
       "      <td>547620.00</td>\n",
       "      <td>NaN</td>\n",
       "      <td>NaN</td>\n",
       "      <td>1.00</td>\n",
       "      <td>INGREDION INC</td>\n",
       "      <td>4811423</td>\n",
       "      <td>1.461960e+19</td>\n",
       "      <td>1.149170e+19</td>\n",
       "    </tr>\n",
       "    <tr>\n",
       "      <th>4</th>\n",
       "      <td>2012</td>\n",
       "      <td>71854TXRKN3717O</td>\n",
       "      <td>1.100370e+11</td>\n",
       "      <td>COLEMAN CABLE - TEXARKANA FACILITY</td>\n",
       "      <td>1220 JIM WALTER DR</td>\n",
       "      <td>TEXARKANA</td>\n",
       "      <td>MILLER</td>\n",
       "      <td>AR</td>\n",
       "      <td>71854</td>\n",
       "      <td>NaN</td>\n",
       "      <td>...</td>\n",
       "      <td>0.0</td>\n",
       "      <td>0.0</td>\n",
       "      <td>0.00</td>\n",
       "      <td>NaN</td>\n",
       "      <td>NaN</td>\n",
       "      <td>NaN</td>\n",
       "      <td>COLEMAN CABLE INC</td>\n",
       "      <td>44519098</td>\n",
       "      <td>7.656590e+18</td>\n",
       "      <td>1.154890e+19</td>\n",
       "    </tr>\n",
       "  </tbody>\n",
       "</table>\n",
       "<p>5 rows × 111 columns</p>\n",
       "</div>"
      ],
      "text/plain": [
       "   YEAR  TRI_FACILITY_ID        FRS_ID                          FACILITY_NAME  \\\n",
       "0  2012  55164KCHRFPOBOX  1.100000e+11    FLINT HILLS RESOURCES PINE BEND LLC   \n",
       "1  2012  3150WGRGBM339IN  1.100620e+11  GEORGIA BIOMASS LLC WAYCROSS FACILITY   \n",
       "2  2012  44102TCHNC3500R  1.100010e+11                 TECHNICAL PRODUCTS INC   \n",
       "3  2012  60501CRNPR6400A  1.100170e+11               INGREDION INC ARGO PLANT   \n",
       "4  2012  71854TXRKN3717O  1.100370e+11     COLEMAN CABLE - TEXARKANA FACILITY   \n",
       "\n",
       "           STREET_ADDRESS          CITY    COUNTY  ST    ZIP  BIA_CODE  \\\n",
       "0          13775 CLARK RD     ROSEMOUNT    DAKOTA  MN  55068       NaN   \n",
       "1  3390 IND US TRIAL BLVD      WAYCROSS      WARE  GA  31503       NaN   \n",
       "2           3500 RIDGE RD     CLEVELAND  CUYAHOGA  OH  44102       NaN   \n",
       "3       6400 S ARCHER AVE  BEDFORD PARK      COOK  IL  60501       NaN   \n",
       "4      1220 JIM WALTER DR     TEXARKANA    MILLER  AR  71854       NaN   \n",
       "\n",
       "                ...               8.6_TREATMENT_ON-SITE  \\\n",
       "0               ...                             40000.0   \n",
       "1               ...                                 0.0   \n",
       "2               ...                                 0.0   \n",
       "3               ...                                 0.0   \n",
       "4               ...                                 0.0   \n",
       "\n",
       "   8.7_TREATMENT_OFF-SITE  PROD._WASTE_(8.1_THRU_8.7) 8.8_ONE-TIME_RELEASE  \\\n",
       "0                  1793.0                    63116.80                  NaN   \n",
       "1                     0.0                       95.23                  NaN   \n",
       "2                     0.0                        0.00                  0.0   \n",
       "3                540000.0                   547620.00                  NaN   \n",
       "4                     0.0                        0.00                  NaN   \n",
       "\n",
       "   PROD_RATIO_OR_ACTIVITY 8.9_PRODUCTION_RATIO  PARENT_COMPANY_NAME  \\\n",
       "0                     NaN                 1.01  KOCH INDUSTRIES INC   \n",
       "1                     NaN                 1.13  GEORGIA BIOMASS LLC   \n",
       "2                     NaN                 0.00                  NaN   \n",
       "3                     NaN                 1.00        INGREDION INC   \n",
       "4                     NaN                  NaN    COLEMAN CABLE INC   \n",
       "\n",
       "   PARENT_COMPANY_DB_NUMBER  SYS_STSITSSXSOLCHJPSAF7486K4RV  \\\n",
       "0                   6944334                    1.381080e+19   \n",
       "1                 832589498                    8.310690e+18   \n",
       "2                       NaN                    1.771490e+19   \n",
       "3                   4811423                    1.461960e+19   \n",
       "4                  44519098                    7.656590e+18   \n",
       "\n",
       "   SYS_STSWGMX8O#197_NPUKVK#S5$QM  \n",
       "0                    9.828720e+18  \n",
       "1                    1.075590e+19  \n",
       "2                    7.915490e+18  \n",
       "3                    1.149170e+19  \n",
       "4                    1.154890e+19  \n",
       "\n",
       "[5 rows x 111 columns]"
      ]
     },
     "execution_count": 12,
     "metadata": {},
     "output_type": "execute_result"
    }
   ],
   "source": [
    "TRI_2012.head()"
   ]
  },
  {
   "cell_type": "code",
   "execution_count": 13,
   "metadata": {
    "collapsed": false,
    "scrolled": true
   },
   "outputs": [
    {
     "name": "stdout",
     "output_type": "stream",
     "text": [
      "<class 'pandas.core.frame.DataFrame'>\n",
      "RangeIndex: 82635 entries, 0 to 82634\n",
      "Columns: 111 entries, YEAR to SYS_STSWGMX8O#197_NPUKVK#S5$QM\n",
      "dtypes: float64(76), int64(12), object(23)\n",
      "memory usage: 62.7+ MB\n"
     ]
    }
   ],
   "source": [
    "TRI_2012.info()"
   ]
  },
  {
   "cell_type": "markdown",
   "metadata": {},
   "source": [
    "### Filter dataframe \"TRI_2012\" for petroleum sector emissions\n",
    "\n",
    "Then, create a new dataframe of only petroleum sector emissions called \"Petro_2012\""
   ]
  },
  {
   "cell_type": "code",
   "execution_count": 14,
   "metadata": {
    "collapsed": false,
    "scrolled": false
   },
   "outputs": [],
   "source": [
    "Petro_2012 = TRI_2012[TRI_2012.INDUSTRY_SECTOR == \"Petroleum\"]"
   ]
  },
  {
   "cell_type": "code",
   "execution_count": 15,
   "metadata": {
    "collapsed": false
   },
   "outputs": [
    {
     "name": "stdout",
     "output_type": "stream",
     "text": [
      "<class 'pandas.core.frame.DataFrame'>\n",
      "Int64Index: 5398 entries, 0 to 82575\n",
      "Columns: 111 entries, YEAR to SYS_STSWGMX8O#197_NPUKVK#S5$QM\n",
      "dtypes: float64(76), int64(12), object(23)\n",
      "memory usage: 4.1+ MB\n"
     ]
    }
   ],
   "source": [
    "Petro_2012.info()"
   ]
  },
  {
   "cell_type": "code",
   "execution_count": 16,
   "metadata": {
    "collapsed": false
   },
   "outputs": [],
   "source": [
    "Ben_Petro_2012 = Petro_2012[Petro_2012.CHEMICAL == \"BENZENE\"]"
   ]
  },
  {
   "cell_type": "code",
   "execution_count": 17,
   "metadata": {
    "collapsed": false
   },
   "outputs": [
    {
     "name": "stdout",
     "output_type": "stream",
     "text": [
      "<class 'pandas.core.frame.DataFrame'>\n",
      "Int64Index: 165 entries, 1516 to 82507\n",
      "Columns: 111 entries, YEAR to SYS_STSWGMX8O#197_NPUKVK#S5$QM\n",
      "dtypes: float64(76), int64(12), object(23)\n",
      "memory usage: 129.6+ KB\n"
     ]
    }
   ],
   "source": [
    "Ben_Petro_2012.info()"
   ]
  },
  {
   "cell_type": "markdown",
   "metadata": {},
   "source": [
    "Since emissions can be reported in pounds and grams in the column \"UNIT_OF_MEASURE,\" check whether benzene emissions are also reported in grams"
   ]
  },
  {
   "cell_type": "code",
   "execution_count": 18,
   "metadata": {
    "collapsed": false
   },
   "outputs": [
    {
     "data": {
      "text/html": [
       "<div>\n",
       "<table border=\"1\" class=\"dataframe\">\n",
       "  <thead>\n",
       "    <tr style=\"text-align: right;\">\n",
       "      <th></th>\n",
       "      <th>index</th>\n",
       "      <th>UNIT_OF_MEASURE</th>\n",
       "    </tr>\n",
       "  </thead>\n",
       "  <tbody>\n",
       "    <tr>\n",
       "      <th>0</th>\n",
       "      <td>Pounds</td>\n",
       "      <td>165</td>\n",
       "    </tr>\n",
       "  </tbody>\n",
       "</table>\n",
       "</div>"
      ],
      "text/plain": [
       "    index  UNIT_OF_MEASURE\n",
       "0  Pounds              165"
      ]
     },
     "execution_count": 18,
     "metadata": {},
     "output_type": "execute_result"
    }
   ],
   "source": [
    "Ben_Petro_2012.UNIT_OF_MEASURE.value_counts().reset_index()"
   ]
  },
  {
   "cell_type": "markdown",
   "metadata": {},
   "source": [
    "Good, no benzene emissions were reported in grams so I don't have different units to worry about."
   ]
  },
  {
   "cell_type": "code",
   "execution_count": 20,
   "metadata": {
    "collapsed": false
   },
   "outputs": [],
   "source": [
    "Ben_Petro_2012.to_csv(\"C:/Users/Luckbug/Code/emissions/Ben_Petro_2012.csv\")"
   ]
  },
  {
   "cell_type": "code",
   "execution_count": null,
   "metadata": {
    "collapsed": true
   },
   "outputs": [],
   "source": []
  }
 ],
 "metadata": {
  "kernelspec": {
   "display_name": "Python 2",
   "language": "python",
   "name": "python2"
  },
  "language_info": {
   "codemirror_mode": {
    "name": "ipython",
    "version": 2
   },
   "file_extension": ".py",
   "mimetype": "text/x-python",
   "name": "python",
   "nbconvert_exporter": "python",
   "pygments_lexer": "ipython2",
   "version": "2.7.11"
  }
 },
 "nbformat": 4,
 "nbformat_minor": 0
}
