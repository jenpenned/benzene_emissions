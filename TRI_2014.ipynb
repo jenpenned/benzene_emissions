{
 "cells": [
  {
   "cell_type": "markdown",
   "metadata": {},
   "source": [
    "# Benzene emissions from the petroleum industry section from TRI 2014"
   ]
  },
  {
   "cell_type": "code",
   "execution_count": 10,
   "metadata": {
    "collapsed": false
   },
   "outputs": [],
   "source": [
    "import pandas as pd"
   ]
  },
  {
   "cell_type": "code",
   "execution_count": 11,
   "metadata": {
    "collapsed": false
   },
   "outputs": [],
   "source": [
    "TRI_2014 = pd.read_csv(\"C:/Users/Luckbug/Code/emissions/TRI/TRI_2014_US.csv\")"
   ]
  },
  {
   "cell_type": "code",
   "execution_count": 12,
   "metadata": {
    "collapsed": false
   },
   "outputs": [
    {
     "data": {
      "text/html": [
       "<div>\n",
       "<table border=\"1\" class=\"dataframe\">\n",
       "  <thead>\n",
       "    <tr style=\"text-align: right;\">\n",
       "      <th></th>\n",
       "      <th>YEAR</th>\n",
       "      <th>TRI_FACILITY_ID</th>\n",
       "      <th>FRS_ID</th>\n",
       "      <th>FACILITY_NAME</th>\n",
       "      <th>STREET_ADDRESS</th>\n",
       "      <th>CITY</th>\n",
       "      <th>COUNTY</th>\n",
       "      <th>ST</th>\n",
       "      <th>ZIP</th>\n",
       "      <th>BIA_CODE</th>\n",
       "      <th>...</th>\n",
       "      <th>8.6_TREATMENT_ON-SITE</th>\n",
       "      <th>8.7_TREATMENT_OFF-SITE</th>\n",
       "      <th>PROD._WASTE_(8.1_THRU_8.7)</th>\n",
       "      <th>8.8_ONE-TIME_RELEASE</th>\n",
       "      <th>PROD_RATIO_OR_ACTIVITY</th>\n",
       "      <th>8.9_PRODUCTION_RATIO</th>\n",
       "      <th>PARENT_COMPANY_NAME</th>\n",
       "      <th>PARENT_COMPANY_DB_NUMBER</th>\n",
       "      <th>SYS_STSITSSXSOLCHJPSAF7486K4RV</th>\n",
       "      <th>SYS_STSWGMX8O#197_NPUKVK#S5$QM</th>\n",
       "    </tr>\n",
       "  </thead>\n",
       "  <tbody>\n",
       "    <tr>\n",
       "      <th>0</th>\n",
       "      <td>2014</td>\n",
       "      <td>30170WNSLYGEORG</td>\n",
       "      <td>1.100460e+11</td>\n",
       "      <td>WANSLEY STEAM ELECTRIC GENERATING PLANT</td>\n",
       "      <td>1371 LIBERTY CHURCH RD</td>\n",
       "      <td>CARROLLTON</td>\n",
       "      <td>HEARD</td>\n",
       "      <td>GA</td>\n",
       "      <td>30116</td>\n",
       "      <td>NaN</td>\n",
       "      <td>...</td>\n",
       "      <td>0.0</td>\n",
       "      <td>0.0</td>\n",
       "      <td>0.0</td>\n",
       "      <td>0.0</td>\n",
       "      <td>NaN</td>\n",
       "      <td>0.00</td>\n",
       "      <td>SOUTHERN CO CO-OWNED</td>\n",
       "      <td>NaN</td>\n",
       "      <td>7.404690e+18</td>\n",
       "      <td>1.582360e+19</td>\n",
       "    </tr>\n",
       "    <tr>\n",
       "      <th>1</th>\n",
       "      <td>2014</td>\n",
       "      <td>83687GRTWS1717E</td>\n",
       "      <td>1.100000e+11</td>\n",
       "      <td>BHS MARKETING LLC</td>\n",
       "      <td>1717 E FARGO AVE.</td>\n",
       "      <td>NAMPA</td>\n",
       "      <td>CANYON</td>\n",
       "      <td>ID</td>\n",
       "      <td>83687</td>\n",
       "      <td>NaN</td>\n",
       "      <td>...</td>\n",
       "      <td>0.0</td>\n",
       "      <td>0.0</td>\n",
       "      <td>30566.0</td>\n",
       "      <td>NaN</td>\n",
       "      <td>PRODUCTION</td>\n",
       "      <td>1.00</td>\n",
       "      <td>NaN</td>\n",
       "      <td>NaN</td>\n",
       "      <td>4.496230e+18</td>\n",
       "      <td>6.840210e+18</td>\n",
       "    </tr>\n",
       "    <tr>\n",
       "      <th>2</th>\n",
       "      <td>2014</td>\n",
       "      <td>06516DTSCH14FAR</td>\n",
       "      <td>1.100000e+11</td>\n",
       "      <td>DEITSCH PLASTIC CO INC</td>\n",
       "      <td>14 FARWELL ST</td>\n",
       "      <td>WEST HAVEN</td>\n",
       "      <td>NEW HAVEN</td>\n",
       "      <td>CT</td>\n",
       "      <td>6516</td>\n",
       "      <td>NaN</td>\n",
       "      <td>...</td>\n",
       "      <td>21178.0</td>\n",
       "      <td>0.0</td>\n",
       "      <td>22054.0</td>\n",
       "      <td>NaN</td>\n",
       "      <td>PRODUCTION</td>\n",
       "      <td>1.07</td>\n",
       "      <td>NaN</td>\n",
       "      <td>NaN</td>\n",
       "      <td>1.217880e+19</td>\n",
       "      <td>1.193360e+19</td>\n",
       "    </tr>\n",
       "    <tr>\n",
       "      <th>3</th>\n",
       "      <td>2014</td>\n",
       "      <td>87045PLNSSCOUNT</td>\n",
       "      <td>1.100010e+11</td>\n",
       "      <td>TRI-STATE GENERATION &amp; TRANSMISSION - ESCALANT...</td>\n",
       "      <td>COUNTY RD 19</td>\n",
       "      <td>PREWITT</td>\n",
       "      <td>MCKINLEY</td>\n",
       "      <td>NM</td>\n",
       "      <td>87045</td>\n",
       "      <td>NaN</td>\n",
       "      <td>...</td>\n",
       "      <td>56065.0</td>\n",
       "      <td>0.0</td>\n",
       "      <td>56883.0</td>\n",
       "      <td>NaN</td>\n",
       "      <td>PRODUCTION</td>\n",
       "      <td>0.92</td>\n",
       "      <td>NaN</td>\n",
       "      <td>NaN</td>\n",
       "      <td>2.379440e+18</td>\n",
       "      <td>1.752400e+19</td>\n",
       "    </tr>\n",
       "    <tr>\n",
       "      <th>4</th>\n",
       "      <td>2014</td>\n",
       "      <td>53546SSTCH3330P</td>\n",
       "      <td>1.100010e+11</td>\n",
       "      <td>SSI TECHNOLOGIES SINTERED SPEC IALTIES DIV</td>\n",
       "      <td>3330 PALMER DR</td>\n",
       "      <td>JANESVILLE</td>\n",
       "      <td>ROCK</td>\n",
       "      <td>WI</td>\n",
       "      <td>53546</td>\n",
       "      <td>NaN</td>\n",
       "      <td>...</td>\n",
       "      <td>0.0</td>\n",
       "      <td>0.0</td>\n",
       "      <td>170713.0</td>\n",
       "      <td>NaN</td>\n",
       "      <td>PRODUCTION</td>\n",
       "      <td>1.03</td>\n",
       "      <td>NaN</td>\n",
       "      <td>NaN</td>\n",
       "      <td>3.122250e+18</td>\n",
       "      <td>4.395390e+18</td>\n",
       "    </tr>\n",
       "  </tbody>\n",
       "</table>\n",
       "<p>5 rows × 111 columns</p>\n",
       "</div>"
      ],
      "text/plain": [
       "   YEAR  TRI_FACILITY_ID        FRS_ID  \\\n",
       "0  2014  30170WNSLYGEORG  1.100460e+11   \n",
       "1  2014  83687GRTWS1717E  1.100000e+11   \n",
       "2  2014  06516DTSCH14FAR  1.100000e+11   \n",
       "3  2014  87045PLNSSCOUNT  1.100010e+11   \n",
       "4  2014  53546SSTCH3330P  1.100010e+11   \n",
       "\n",
       "                                       FACILITY_NAME          STREET_ADDRESS  \\\n",
       "0            WANSLEY STEAM ELECTRIC GENERATING PLANT  1371 LIBERTY CHURCH RD   \n",
       "1                                  BHS MARKETING LLC       1717 E FARGO AVE.   \n",
       "2                             DEITSCH PLASTIC CO INC           14 FARWELL ST   \n",
       "3  TRI-STATE GENERATION & TRANSMISSION - ESCALANT...            COUNTY RD 19   \n",
       "4         SSI TECHNOLOGIES SINTERED SPEC IALTIES DIV          3330 PALMER DR   \n",
       "\n",
       "         CITY     COUNTY  ST    ZIP  BIA_CODE               ...                \\\n",
       "0  CARROLLTON      HEARD  GA  30116       NaN               ...                 \n",
       "1       NAMPA     CANYON  ID  83687       NaN               ...                 \n",
       "2  WEST HAVEN  NEW HAVEN  CT   6516       NaN               ...                 \n",
       "3     PREWITT   MCKINLEY  NM  87045       NaN               ...                 \n",
       "4  JANESVILLE       ROCK  WI  53546       NaN               ...                 \n",
       "\n",
       "  8.6_TREATMENT_ON-SITE  8.7_TREATMENT_OFF-SITE  PROD._WASTE_(8.1_THRU_8.7)  \\\n",
       "0                   0.0                     0.0                         0.0   \n",
       "1                   0.0                     0.0                     30566.0   \n",
       "2               21178.0                     0.0                     22054.0   \n",
       "3               56065.0                     0.0                     56883.0   \n",
       "4                   0.0                     0.0                    170713.0   \n",
       "\n",
       "  8.8_ONE-TIME_RELEASE  PROD_RATIO_OR_ACTIVITY 8.9_PRODUCTION_RATIO  \\\n",
       "0                  0.0                     NaN                 0.00   \n",
       "1                  NaN              PRODUCTION                 1.00   \n",
       "2                  NaN              PRODUCTION                 1.07   \n",
       "3                  NaN              PRODUCTION                 0.92   \n",
       "4                  NaN              PRODUCTION                 1.03   \n",
       "\n",
       "    PARENT_COMPANY_NAME  PARENT_COMPANY_DB_NUMBER  \\\n",
       "0  SOUTHERN CO CO-OWNED                       NaN   \n",
       "1                   NaN                       NaN   \n",
       "2                   NaN                       NaN   \n",
       "3                   NaN                       NaN   \n",
       "4                   NaN                       NaN   \n",
       "\n",
       "   SYS_STSITSSXSOLCHJPSAF7486K4RV  SYS_STSWGMX8O#197_NPUKVK#S5$QM  \n",
       "0                    7.404690e+18                    1.582360e+19  \n",
       "1                    4.496230e+18                    6.840210e+18  \n",
       "2                    1.217880e+19                    1.193360e+19  \n",
       "3                    2.379440e+18                    1.752400e+19  \n",
       "4                    3.122250e+18                    4.395390e+18  \n",
       "\n",
       "[5 rows x 111 columns]"
      ]
     },
     "execution_count": 12,
     "metadata": {},
     "output_type": "execute_result"
    }
   ],
   "source": [
    "TRI_2014.head()"
   ]
  },
  {
   "cell_type": "code",
   "execution_count": 13,
   "metadata": {
    "collapsed": false,
    "scrolled": true
   },
   "outputs": [
    {
     "name": "stdout",
     "output_type": "stream",
     "text": [
      "<class 'pandas.core.frame.DataFrame'>\n",
      "RangeIndex: 82748 entries, 0 to 82747\n",
      "Columns: 111 entries, YEAR to SYS_STSWGMX8O#197_NPUKVK#S5$QM\n",
      "dtypes: float64(79), int64(12), object(20)\n",
      "memory usage: 63.8+ MB\n"
     ]
    }
   ],
   "source": [
    "TRI_2014.info()"
   ]
  },
  {
   "cell_type": "markdown",
   "metadata": {},
   "source": [
    "### Filter dataframe \"TRI_2014\" for petroleum sector emissions\n",
    "\n",
    "Then, create a new dataframe of only petroleum sector emissions called \"Petro_2014\""
   ]
  },
  {
   "cell_type": "code",
   "execution_count": 14,
   "metadata": {
    "collapsed": false,
    "scrolled": false
   },
   "outputs": [],
   "source": [
    "Petro_2014 = TRI_2014[TRI_2014.INDUSTRY_SECTOR == \"Petroleum\"]"
   ]
  },
  {
   "cell_type": "code",
   "execution_count": 15,
   "metadata": {
    "collapsed": false
   },
   "outputs": [
    {
     "name": "stdout",
     "output_type": "stream",
     "text": [
      "<class 'pandas.core.frame.DataFrame'>\n",
      "Int64Index: 5479 entries, 10 to 82740\n",
      "Columns: 111 entries, YEAR to SYS_STSWGMX8O#197_NPUKVK#S5$QM\n",
      "dtypes: float64(79), int64(12), object(20)\n",
      "memory usage: 4.3+ MB\n"
     ]
    }
   ],
   "source": [
    "Petro_2014.info()"
   ]
  },
  {
   "cell_type": "code",
   "execution_count": 16,
   "metadata": {
    "collapsed": false
   },
   "outputs": [],
   "source": [
    "Ben_Petro_2014 = Petro_2014[Petro_2014.CHEMICAL == \"BENZENE\"]"
   ]
  },
  {
   "cell_type": "code",
   "execution_count": 17,
   "metadata": {
    "collapsed": false
   },
   "outputs": [
    {
     "name": "stdout",
     "output_type": "stream",
     "text": [
      "<class 'pandas.core.frame.DataFrame'>\n",
      "Int64Index: 168 entries, 94 to 82545\n",
      "Columns: 111 entries, YEAR to SYS_STSWGMX8O#197_NPUKVK#S5$QM\n",
      "dtypes: float64(79), int64(12), object(20)\n",
      "memory usage: 133.9+ KB\n"
     ]
    }
   ],
   "source": [
    "Ben_Petro_2014.info()"
   ]
  },
  {
   "cell_type": "markdown",
   "metadata": {},
   "source": [
    "Since emissions can be reported in pounds and grams in the column \"UNIT_OF_MEASURE,\" check whether benzene emissions are also reported in grams"
   ]
  },
  {
   "cell_type": "code",
   "execution_count": 18,
   "metadata": {
    "collapsed": false
   },
   "outputs": [
    {
     "data": {
      "text/html": [
       "<div>\n",
       "<table border=\"1\" class=\"dataframe\">\n",
       "  <thead>\n",
       "    <tr style=\"text-align: right;\">\n",
       "      <th></th>\n",
       "      <th>index</th>\n",
       "      <th>UNIT_OF_MEASURE</th>\n",
       "    </tr>\n",
       "  </thead>\n",
       "  <tbody>\n",
       "    <tr>\n",
       "      <th>0</th>\n",
       "      <td>Pounds</td>\n",
       "      <td>168</td>\n",
       "    </tr>\n",
       "  </tbody>\n",
       "</table>\n",
       "</div>"
      ],
      "text/plain": [
       "    index  UNIT_OF_MEASURE\n",
       "0  Pounds              168"
      ]
     },
     "execution_count": 18,
     "metadata": {},
     "output_type": "execute_result"
    }
   ],
   "source": [
    "Ben_Petro_2014.UNIT_OF_MEASURE.value_counts().reset_index()"
   ]
  },
  {
   "cell_type": "markdown",
   "metadata": {},
   "source": [
    "Good, no benzene emissions were reported in grams so I don't have different units to worry about."
   ]
  },
  {
   "cell_type": "code",
   "execution_count": 19,
   "metadata": {
    "collapsed": true
   },
   "outputs": [],
   "source": [
    "Ben_Petro_2014.to_csv(\"C:/Users/Luckbug/Code/emissions/Ben_Petro_2014.csv\")"
   ]
  }
 ],
 "metadata": {
  "kernelspec": {
   "display_name": "Python 2",
   "language": "python",
   "name": "python2"
  },
  "language_info": {
   "codemirror_mode": {
    "name": "ipython",
    "version": 2
   },
   "file_extension": ".py",
   "mimetype": "text/x-python",
   "name": "python",
   "nbconvert_exporter": "python",
   "pygments_lexer": "ipython2",
   "version": "2.7.11"
  }
 },
 "nbformat": 4,
 "nbformat_minor": 0
}
